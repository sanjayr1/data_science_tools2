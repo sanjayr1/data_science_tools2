{
 "cells": [
  {
   "cell_type": "markdown",
   "metadata": {},
   "source": [
    "# Policy creation\n",
    "-  sage_maker_endpoint, create policy,\n",
    "   + under services choose sage maker, under action choose read->invoke endpoint\n",
    "   + under resources choose all resources\n",
    "-  billingView, create policy, \n",
    "   + under services billing, read access\n",
    "-  my_admin"
   ]
  },
  {
   "cell_type": "markdown",
   "metadata": {},
   "source": [
    "# User creation and access policy\n",
    "- my_admin with AdministratorAccess\n",
    "- my_ml_user  sage_maker_endpoint(AWS Managed policy), billingView(Managed policy), AmazonS3FullAccess(AWS managed policy), AmazonMachineLearningFullAccess(AWS managed policy), AmazonSageMakerFullAccess(AWS managed policy)\n",
    "- my_ml_user_predict sage_maker_endpoint(Managed policy), AmazonMachineLearningRealTimePredictionOnlyAccess(AWS managed policy)"
   ]
  },
  {
   "cell_type": "markdown",
   "metadata": {},
   "source": [
    "# AWS cli install and configure\n",
    "Behind the scene RESTAPI of services\n",
    "\n",
    "- aws configure --profile my_ml_user_predict"
   ]
  },
  {
   "cell_type": "markdown",
   "metadata": {},
   "source": [
    "# Sage maker\n",
    "\n",
    "End-to-end machine learning environment\n",
    "\n",
    "- Managed Jupyter notebook environment\n",
    "   + No need to worry about libraries(ML algorithms, sklearn, tensorflow ) etc.\n",
    "- Distributed training and prediction support\n",
    "   + Manages scaling of resources for training and prediction\n",
    "\n",
    "- can configure too."
   ]
  },
  {
   "cell_type": "markdown",
   "metadata": {},
   "source": [
    "# Pricing \n",
    "https://aws.amazon.com/sagemaker/pricing/"
   ]
  },
  {
   "cell_type": "markdown",
   "metadata": {},
   "source": [
    "# Training algorithms\n",
    "- https://docs.aws.amazon.com/sagemaker/\n",
    "- https://docs.aws.amazon.com/sagemaker/latest/dg/algos.html\n",
    "\n",
    "training data needs to be in s3 bucket\n",
    "\n",
    "https://docs.aws.amazon.com/sagemaker/latest/dg/sagemaker-algo-common-data-formats.html\n"
   ]
  },
  {
   "cell_type": "markdown",
   "metadata": {},
   "source": [
    "# Some learning algorithms\n",
    "\n",
    "- [Trevor Hastie - Gradient Boosting Machine Learning](https://www.youtube.com/watch?v=wPqtzj5VZus)\n",
    "- [Quick overview of decision tree](https://www.geeksforgeeks.org/decision-tree-introduction-example/)\n",
    "- [XGBoost](https://xgboost.readthedocs.io/en/latest/)\n",
    "\n",
    "We'll use XGBoost for demo/labs"
   ]
  },
  {
   "cell_type": "markdown",
   "metadata": {},
   "source": [
    "# Perform following activity\n",
    "- Login via my_admin \n",
    "- Create s3 bucket for sagemaker lab\n",
    "- Create notebook instance and define role to have access to s3 bucket\n",
    "- logout from my_admin\n",
    "- login to lesser priviledge my_ml_user account\n",
    "- open jupyter notebook and create dst2sagemaker folder to save the notebooks"
   ]
  },
  {
   "cell_type": "markdown",
   "metadata": {},
   "source": [
    "# Data Format\n",
    "## Reading and writing to S3\n",
    "- https://github.com/aws/sagemaker-python-sdk/\n",
    "- https://boto3.amazonaws.com/v1/documentation/api/latest/guide/s3.html\n"
   ]
  },
  {
   "cell_type": "markdown",
   "metadata": {},
   "source": [
    "# Linear regression using xgboost"
   ]
  }
 ],
 "metadata": {
  "kernelspec": {
   "display_name": "Python 3",
   "language": "python",
   "name": "python3"
  },
  "language_info": {
   "codemirror_mode": {
    "name": "ipython",
    "version": 3
   },
   "file_extension": ".py",
   "mimetype": "text/x-python",
   "name": "python",
   "nbconvert_exporter": "python",
   "pygments_lexer": "ipython3",
   "version": "3.5.2"
  },
  "toc": {
   "base_numbering": 1,
   "nav_menu": {},
   "number_sections": false,
   "sideBar": true,
   "skip_h1_title": false,
   "title_cell": "Table of Contents",
   "title_sidebar": "Contents",
   "toc_cell": false,
   "toc_position": {},
   "toc_section_display": true,
   "toc_window_display": false
  },
  "varInspector": {
   "cols": {
    "lenName": 16,
    "lenType": 16,
    "lenVar": 40
   },
   "kernels_config": {
    "python": {
     "delete_cmd_postfix": "",
     "delete_cmd_prefix": "del ",
     "library": "var_list.py",
     "varRefreshCmd": "print(var_dic_list())"
    },
    "r": {
     "delete_cmd_postfix": ") ",
     "delete_cmd_prefix": "rm(",
     "library": "var_list.r",
     "varRefreshCmd": "cat(var_dic_list()) "
    }
   },
   "types_to_exclude": [
    "module",
    "function",
    "builtin_function_or_method",
    "instance",
    "_Feature"
   ],
   "window_display": false
  }
 },
 "nbformat": 4,
 "nbformat_minor": 2
}
