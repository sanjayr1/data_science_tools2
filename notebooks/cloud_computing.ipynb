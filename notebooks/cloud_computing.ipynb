{
 "cells": [
  {
   "cell_type": "markdown",
   "metadata": {
    "slideshow": {
     "slide_type": "slide"
    }
   },
   "source": [
    "<img src=\"http://www.picserver.org/highway-signs2/images/cloud-computing.jpg\">"
   ]
  },
  {
   "cell_type": "markdown",
   "metadata": {
    "slideshow": {
     "slide_type": "subslide"
    }
   },
   "source": [
    "# What is cloud computing\n",
    "\n",
    "From wiki:\n",
    "\n",
    "Cloud computing is the on demand availability of computer system resources, especially data storage and computing power, without direct active management by the user.\n",
    "\n",
    "See this [announcement](https://aws.amazon.com/about-aws/whats-new/2006/08/24/announcing-amazon-elastic-compute-cloud-amazon-ec2---beta/) of cloud computing by Amazon"
   ]
  },
  {
   "cell_type": "markdown",
   "metadata": {
    "slideshow": {
     "slide_type": "fragment"
    }
   },
   "source": [
    "Cloud computing is nothing but using/providing services like server, storage,  databases, software etc through Internet"
   ]
  },
  {
   "cell_type": "markdown",
   "metadata": {
    "slideshow": {
     "slide_type": "subslide"
    }
   },
   "source": [
    "<img src=\"https://upload.wikimedia.org/wikipedia/commons/b/b5/Cloud_computing.svg\">\n",
    "\n",
    "source:https://upload.wikimedia.org/wikipedia/commons/b/b5/Cloud_computing.svg"
   ]
  },
  {
   "cell_type": "markdown",
   "metadata": {
    "slideshow": {
     "slide_type": "subslide"
    }
   },
   "source": [
    "# Top cloud providers\n",
    "AWS, Microsoft, Google, IBM, Oracle, Alibaba \n",
    "\n",
    "\n"
   ]
  },
  {
   "cell_type": "markdown",
   "metadata": {
    "slideshow": {
     "slide_type": "subslide"
    }
   },
   "source": [
    "We use cloud computing When we\n",
    "- Use netflix\n",
    "- Web pbased email\n",
    "- storing pictures\n",
    "- Ride hailing services\n"
   ]
  },
  {
   "cell_type": "markdown",
   "metadata": {
    "slideshow": {
     "slide_type": "slide"
    }
   },
   "source": [
    "# cloud computing services \n",
    "-  Infrastructure as a Service (IaaS)\n",
    "-  Platform as a Service (PaaS)\n",
    "-  Software as a Service (SaaS)\n"
   ]
  },
  {
   "cell_type": "markdown",
   "metadata": {
    "slideshow": {
     "slide_type": "subslide"
    }
   },
   "source": [
    "# Infrastructure as a Service (IaaS)\n",
    "\n",
    "Provides infrastructure like servers, virtual machines with different operating systems, storage etc. \n",
    "\n"
   ]
  },
  {
   "cell_type": "markdown",
   "metadata": {
    "slideshow": {
     "slide_type": "subslide"
    }
   },
   "source": [
    "# Platform as a Service (PaaS)\n",
    "\n",
    "Provides a development environment including operating system, language runtime, development tools, web server etc. \n",
    "PaaS like Google App engine scale as per user demand"
   ]
  },
  {
   "cell_type": "markdown",
   "metadata": {
    "slideshow": {
     "slide_type": "subslide"
    }
   },
   "source": [
    "# Software as a Service (SaaS)\n",
    "\n",
    "Provides access to applications like email, communication, SaaS is usually priced on a pay-per-use basis or using a subscription fee. Cloud provider manages infrastructure and platform."
   ]
  },
  {
   "cell_type": "markdown",
   "metadata": {
    "slideshow": {
     "slide_type": "subslide"
    }
   },
   "source": [
    "# Why to use cloud services\n",
    "\n",
    "Scalability and cheap price and time to create and above cloud services.\n",
    "\n",
    "Think about creating startup without current cloud services(Face book etc.)\n",
    "- Buy machine, server, install operating system and applications runtme.\n",
    "    + Or go under contract for hardware and software with other companies. Take 1- 2 months.\n",
    "- Utility bill, Manage powering and Internet connections(speed/bandwidth, global access).\n",
    "- Monitoring the health of service.\n",
    "- Backup/Security of customer data?"
   ]
  },
  {
   "cell_type": "markdown",
   "metadata": {
    "slideshow": {
     "slide_type": "subslide"
    }
   },
   "source": [
    "# VS"
   ]
  },
  {
   "cell_type": "markdown",
   "metadata": {
    "slideshow": {
     "slide_type": "fragment"
    }
   },
   "source": [
    "**Minute and hours to have access to different scalable services at cheap price .**\n",
    "\n",
    "Infact lot of companies owe their existence to cloud computing. \n",
    "\n",
    "A new generation of Entrepreneurship is possible now. No need to stack machines in dorm room or parent garage."
   ]
  },
  {
   "cell_type": "markdown",
   "metadata": {
    "slideshow": {
     "slide_type": "subslide"
    }
   },
   "source": [
    "# Why AWS as a service provider \n",
    "- Pioneer of cloud computing.\n",
    "- Fastest growing and larget public cloud computing provider\n",
    "    + https://www.forbes.com/sites/louiscolumbus/2018/09/23/roundup-of-cloud-computing-forecasts-and-market-estimates-2018/#7850dca5507b\n",
    "\n",
    "    + https://www.canalys.com/newsroom/cloud-market-share-q4-2018-and-full-year-2018\n",
    "\n",
    "It is broad and deep platform, allowing one to build sophisticated and scalable applications.\n",
    "\n"
   ]
  },
  {
   "cell_type": "markdown",
   "metadata": {
    "slideshow": {
     "slide_type": "subslide"
    }
   },
   "source": [
    "# Servies provided by AWS\n",
    "\n",
    "let's login to \n",
    "https://aws.amazon.com/"
   ]
  },
  {
   "cell_type": "markdown",
   "metadata": {},
   "source": [
    "<img src=\"https://d1.awsstatic.com/about-aws/regions/Global%20Infrastructure%20Map-Jakarta%20and%20Hong%20Kong_update.1fcad512779992000de22e2e3344c3839d2a8d6b.png\"> </img>\n",
    "\n",
    "source: https://aws.amazon.com/about-aws/global-infrastructure/"
   ]
  },
  {
   "cell_type": "markdown",
   "metadata": {
    "slideshow": {
     "slide_type": "subslide"
    }
   },
   "source": [
    "# BASIC TODO\n",
    "- sign up fo rfree account\n",
    "- Check support plan.\n",
    "- Use cloud watch to create billing alarm"
   ]
  },
  {
   "cell_type": "markdown",
   "metadata": {},
   "source": [
    "# IAM(Identity access management) TODO\n",
    "\n",
    "- GO TO IAM\n",
    "\n",
    "- Setup MFA via virtual \n",
    "- Before creating user, modify IAM user sign-in link as it has account number.\n",
    "- creating user and assigning group/or use pre-defined group\n"
   ]
  },
  {
   "cell_type": "markdown",
   "metadata": {
    "slideshow": {
     "slide_type": "subslide"
    }
   },
   "source": [
    "# S3 service\n",
    "\n",
    "https://aws.amazon.com/s3/\n",
    "\n",
    "-Object based storage\n",
    " + Key value store   \n",
    " + video, text file etc.\n",
    "- file size =  0 to 5 TB and stored in a bucket(folder)\n",
    "- Bucket must have universal name space\n",
    "- When we write new data to bucket, it is available for write.\n",
    "- Any overwrite/delete takes sometime.\n",
    "- 11 9's durability"
   ]
  },
  {
   "cell_type": "markdown",
   "metadata": {
    "slideshow": {
     "slide_type": "subslide"
    }
   },
   "source": [
    "# S3 storage class\n",
    "- S3 \n",
    "- S3 IA (infrequently accessed)\n",
    "- S3 one zone -IA\n",
    "- S3 - Intelligent tiering\n",
    "\n",
    "-Archiving solutions\n",
    "    + S3 Glacier(minutes to hour)\n",
    "    + S3 Glacier deep archive(time of 12 hours is acceptable)\n",
    "    \n",
    "\n",
    "https://docs.aws.amazon.com/AmazonS3/latest/dev/storage-class-intro.html"
   ]
  },
  {
   "cell_type": "markdown",
   "metadata": {
    "slideshow": {
     "slide_type": "subslide"
    }
   },
   "source": [
    "# TODO\n",
    " - login and create an bucket, Remove lock while creating for public view\n",
    "     + upload a file and via action make it public\n",
    " - Folder properties for version, events, static website etc    "
   ]
  },
  {
   "cell_type": "markdown",
   "metadata": {
    "slideshow": {
     "slide_type": "slide"
    }
   },
   "source": [
    "# EC2\n",
    "\n",
    " - On demand compute\n",
    " - On demand, reserved, spot(bid price)\n",
    " \n",
    " https://aws.amazon.com/ec2/pricing/on-demand/\n",
    " "
   ]
  },
  {
   "cell_type": "markdown",
   "metadata": {},
   "source": [
    "# Resources\n",
    "\n",
    "- [This is My Architecture](https://www.youtube.com/playlist?list=PLhr1KZpdzukdeX8mQ2qO73bg6UKQHYsHb)\n",
    "\n",
    "- [AWS white paper](https://d1.awsstatic.com/whitepapers/aws-overview.pdf)"
   ]
  }
 ],
 "metadata": {
  "celltoolbar": "Slideshow",
  "kernelspec": {
   "display_name": "Python 3",
   "language": "python",
   "name": "python3"
  },
  "language_info": {
   "codemirror_mode": {
    "name": "ipython",
    "version": 3
   },
   "file_extension": ".py",
   "mimetype": "text/x-python",
   "name": "python",
   "nbconvert_exporter": "python",
   "pygments_lexer": "ipython3",
   "version": "3.5.2"
  }
 },
 "nbformat": 4,
 "nbformat_minor": 2
}
