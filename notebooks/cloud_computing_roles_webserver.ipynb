{
 "cells": [
  {
   "cell_type": "markdown",
   "metadata": {},
   "source": [
    "# EC2(virtual server in the cloud)\n",
    "\n",
    " - On demand compute\n",
    " - On demand, reserved, spot(bid price)\n",
    " \n",
    " https://aws.amazon.com/ec2/pricing/on-demand/\n",
    " \n",
    "To create an instance,\n",
    "- Select Ec2 from service\n",
    "- Click launch instance\n",
    "- Select Free tier only and select Amazon Linux 2 AMI (HVM), SSD Volume Type \n",
    "- In next screen General purpose, t2.micro(Free tier eligible)\n",
    "    + One can configure more hard disk but we don't need.\n",
    "- Select default configuration in next couple of screen\n",
    "- In Configure Security Group, Once can change **source** to determines the traffic that can reach your instance, but we will go with default 0.0.0.0/0\n",
    "- Finally review and launch\n",
    "- When you click launch , **Select an existing key pair or create a new key pair screen will come**\n",
    "    + Select create new key pair,\n",
    "    + **In Key pair name**, give name like my_private_key_linux_EC2_AMI and download it using **Download key pair buttton**\n",
    "- Mac/Linux using terminal go to the folder of downloaded key\n",
    "    + Change mode to **chmod 400 my_private_key_linux_EC2_AMI.pem**\n",
    "    + login using ssh ec2-user@ip -i your_key.pem\n",
    "- Window\n",
    "    Window user see [this video](https://www.youtube.com/watch?v=bi7ow5NGC-U) for detail about connecting to EC2\n",
    "         \n",
    "You have a linux machine in the cloud for computational need.         "
   ]
  },
  {
   "cell_type": "markdown",
   "metadata": {},
   "source": [
    "# Some commands\n",
    "- **aws s3 ls**\n",
    "    + if *an error* use **aws configure** and from you IAM , create and use key and secret\n",
    "- To make s3 bucket\n",
    "    + **aws s3 mb s3://bucketname**\n",
    "\n",
    "\n",
    "See aws help topics for more commands and options."
   ]
  },
  {
   "cell_type": "markdown",
   "metadata": {},
   "source": [
    "Above approach is not secure as your credential are in .aws directory inside you home directory. If someone hack you virtual instane then one has full access to the AWS services as they have **you ID and secret key**\n",
    "\n",
    "In instead  remove .aws from your home directory (In the Ec2 instance run **cd ~; rm -fr .aws**) and create a role for your EC2 instance so that it can access S3."
   ]
  },
  {
   "cell_type": "markdown",
   "metadata": {},
   "source": [
    "# Creating role for EC2\n",
    "\n",
    "- Create a role in IAM for ec2 under role dashboard\n",
    "    + add s3 admin services\n",
    "- Add created role to ec2\n",
    "    + Go to running ec2 and action->instance setting/delete/attach IAM role"
   ]
  },
  {
   "cell_type": "markdown",
   "metadata": {},
   "source": [
    "**Ignore everthing after this cell as this is not a required step for data science activity**"
   ]
  },
  {
   "cell_type": "markdown",
   "metadata": {},
   "source": [
    "# Creating a webserver in EC2\n",
    "- yum install httpd -y\n",
    "- Start server service httpd start\n",
    "- cd /var/www/html\n",
    "    + create in index.html\n",
    "- Browse to the ip from browser"
   ]
  },
  {
   "cell_type": "markdown",
   "metadata": {},
   "source": [
    "# Elastic load balancer\n",
    "\n",
    "- Go to compute-> EC2 -> Load balancers\n",
    "- Create http->select all zones\n",
    "- Configure security group, select the one with server(web)\n",
    "- Configure routing, fill name field\n",
    "- Register targets( running servers)\n",
    "\n",
    "\n",
    "- Create a new webserver in different EC2 instance\n",
    "    + Create new instance, choose Amazon Linux AMI\n",
    "    + In configuration detail-> advance details add bootstrap script\n",
    "        \n"
   ]
  },
  {
   "cell_type": "raw",
   "metadata": {},
   "source": [
    "#!/bin/bash\n",
    "yum update -y\n",
    "yum install httpd -y\n",
    "service  httpd start\n",
    "chkconfig on\n",
    "cd /var/www/html\n",
    "echo \"<html> <body> <h1> hi server 2</h1></body></html>\" > index.html\n"
   ]
  },
  {
   "cell_type": "markdown",
   "metadata": {},
   "source": [
    "- In the load balancing -> target group, add new ec2 intances\n",
    "- Wait for them to become healthy\n",
    "- Go to the dns name of load balancer.\n",
    "    + It should redirect traffic to different webservers."
   ]
  }
 ],
 "metadata": {
  "kernelspec": {
   "display_name": "Python 3",
   "language": "python",
   "name": "python3"
  },
  "language_info": {
   "codemirror_mode": {
    "name": "ipython",
    "version": 3
   },
   "file_extension": ".py",
   "mimetype": "text/x-python",
   "name": "python",
   "nbconvert_exporter": "python",
   "pygments_lexer": "ipython3",
   "version": "3.5.2"
  }
 },
 "nbformat": 4,
 "nbformat_minor": 2
}
