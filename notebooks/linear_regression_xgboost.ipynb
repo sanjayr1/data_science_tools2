{
 "cells": [
  {
   "cell_type": "markdown",
   "metadata": {},
   "source": [
    "$y=\\beta x + \\beta_0 + \\epsilon$\n",
    "\n",
    "\n",
    "$\\epsilon \\sim \\mathcal(N)(0, \\sigma)$\n",
    "\n",
    "$\\beta=4, \\beta_0 = 5$"
   ]
  },
  {
   "cell_type": "code",
   "execution_count": 4,
   "metadata": {},
   "outputs": [],
   "source": [
    "import numpy as np\n",
    "import matplotlib.pyplot as plt\n",
    "%matplotlib inline\n",
    "import xgboost as xgb"
   ]
  },
  {
   "cell_type": "code",
   "execution_count": 2,
   "metadata": {},
   "outputs": [
    {
     "name": "stdout",
     "output_type": "stream",
     "text": [
      "Solving environment: done\n",
      "\n",
      "\n",
      "==> WARNING: A newer version of conda exists. <==\n",
      "  current version: 4.5.12\n",
      "  latest version: 4.6.14\n",
      "\n",
      "Please update conda by running\n",
      "\n",
      "    $ conda update -n base -c defaults conda\n",
      "\n",
      "\n",
      "\n",
      "# All requested packages already installed.\n",
      "\n"
     ]
    }
   ],
   "source": [
    "!conda install -y -c conda-forge xgboost"
   ]
  },
  {
   "cell_type": "code",
   "execution_count": 5,
   "metadata": {},
   "outputs": [
    {
     "data": {
      "text/plain": [
       "array([-15.        , -14.84924623, -14.69849246, -14.54773869,\n",
       "       -14.39698492, -14.24623116, -14.09547739, -13.94472362,\n",
       "       -13.79396985, -13.64321608])"
      ]
     },
     "execution_count": 5,
     "metadata": {},
     "output_type": "execute_result"
    }
   ],
   "source": [
    "X = np.linspace(-15, 15, 200)\n",
    "X[0:10]"
   ]
  },
  {
   "cell_type": "code",
   "execution_count": 7,
   "metadata": {},
   "outputs": [
    {
     "data": {
      "text/plain": [
       "array([-55.        , -54.39698492, -53.79396985, -53.19095477,\n",
       "       -52.5879397 , -51.98492462, -51.38190955, -50.77889447,\n",
       "       -50.1758794 , -49.57286432])"
      ]
     },
     "execution_count": 7,
     "metadata": {},
     "output_type": "execute_result"
    }
   ],
   "source": [
    "y_true = 4*X + 5\n",
    "y_true[0:10]"
   ]
  },
  {
   "cell_type": "code",
   "execution_count": 9,
   "metadata": {},
   "outputs": [
    {
     "data": {
      "text/plain": [
       "array([-54.73816064, -55.5136937 , -54.33793   , -54.01317661,\n",
       "       -53.14111513, -53.9430757 , -48.64206156, -51.5817964 ,\n",
       "       -51.69977669, -49.16725288])"
      ]
     },
     "execution_count": 9,
     "metadata": {},
     "output_type": "execute_result"
    }
   ],
   "source": [
    "y_noisy = y_true + np.random.randn(len(X))*1.5\n",
    "y_noisy[0:10]"
   ]
  },
  {
   "cell_type": "code",
   "execution_count": 10,
   "metadata": {},
   "outputs": [],
   "source": [
    "from sklearn.model_selection import train_test_split"
   ]
  },
  {
   "cell_type": "code",
   "execution_count": 11,
   "metadata": {},
   "outputs": [
    {
     "data": {
      "text/plain": [
       "((160,), (40,))"
      ]
     },
     "execution_count": 11,
     "metadata": {},
     "output_type": "execute_result"
    }
   ],
   "source": [
    "X_train, X_val, y_train, y_val = train_test_split(X, y_noisy, test_size=.2, random_state =2)\n",
    "X_train.shape, X_val.shape"
   ]
  },
  {
   "cell_type": "code",
   "execution_count": 13,
   "metadata": {},
   "outputs": [
    {
     "data": {
      "text/plain": [
       "<matplotlib.legend.Legend at 0x7f8fd559d5c0>"
      ]
     },
     "execution_count": 13,
     "metadata": {},
     "output_type": "execute_result"
    },
    {
     "data": {
      "image/png": "[encoded data removed]",
      "text/plain": [
       "<Figure size 432x288 with 1 Axes>"
      ]
     },
     "metadata": {},
     "output_type": "display_data"
    }
   ],
   "source": [
    "plt.scatter(X_train, y_train, label = 'Training data')\n",
    "plt.scatter(X_val, y_val, c='red', marker='+', label = 'Validation')\n",
    "plt.grid(True)\n",
    "plt.legend()"
   ]
  },
  {
   "cell_type": "code",
   "execution_count": 14,
   "metadata": {},
   "outputs": [
    {
     "data": {
      "text/plain": [
       "XGBRegressor(base_score=0.5, booster='gbtree', colsample_bylevel=1,\n",
       "       colsample_bytree=1, gamma=0, importance_type='gain',\n",
       "       learning_rate=0.1, max_delta_step=0, max_depth=3,\n",
       "       min_child_weight=1, missing=None, n_estimators=100, n_jobs=1,\n",
       "       nthread=None, objective='reg:linear', random_state=0, reg_alpha=0,\n",
       "       reg_lambda=1, scale_pos_weight=1, seed=None, silent=True,\n",
       "       subsample=1)"
      ]
     },
     "execution_count": 14,
     "metadata": {},
     "output_type": "execute_result"
    }
   ],
   "source": [
    "xgb_reg = xgb.XGBRegressor()\n",
    "xgb_reg"
   ]
  },
  {
   "cell_type": "code",
   "execution_count": 18,
   "metadata": {},
   "outputs": [
    {
     "data": {
      "text/plain": [
       "(160, 1)"
      ]
     },
     "execution_count": 18,
     "metadata": {},
     "output_type": "execute_result"
    }
   ],
   "source": [
    "X_train = X_train[:, np.newaxis]\n"
   ]
  },
  {
   "cell_type": "code",
   "execution_count": 19,
   "metadata": {},
   "outputs": [
    {
     "data": {
      "text/plain": [
       "(40, 1)"
      ]
     },
     "execution_count": 19,
     "metadata": {},
     "output_type": "execute_result"
    }
   ],
   "source": [
    "X_val= np.expand_dims(X_val, axis = 1)\n",
    "X_val.shape"
   ]
  },
  {
   "cell_type": "code",
   "execution_count": 20,
   "metadata": {},
   "outputs": [
    {
     "name": "stdout",
     "output_type": "stream",
     "text": [
      "[0]\tvalidation_0-rmse:31.3833\tvalidation_1-rmse:34.2065\n",
      "[1]\tvalidation_0-rmse:28.4431\tvalidation_1-rmse:31.0321\n",
      "[2]\tvalidation_0-rmse:25.7798\tvalidation_1-rmse:28.1653\n",
      "[3]\tvalidation_0-rmse:23.3741\tvalidation_1-rmse:25.5303\n",
      "[4]\tvalidation_0-rmse:21.1994\tvalidation_1-rmse:23.2448\n",
      "[5]\tvalidation_0-rmse:19.2329\tvalidation_1-rmse:21.0905\n",
      "[6]\tvalidation_0-rmse:17.4433\tvalidation_1-rmse:19.1654\n",
      "[7]\tvalidation_0-rmse:15.829\tvalidation_1-rmse:17.4282\n",
      "[8]\tvalidation_0-rmse:14.3755\tvalidation_1-rmse:15.8688\n",
      "[9]\tvalidation_0-rmse:13.0506\tvalidation_1-rmse:14.4456\n",
      "[10]\tvalidation_0-rmse:11.8527\tvalidation_1-rmse:13.2004\n",
      "[11]\tvalidation_0-rmse:10.7703\tvalidation_1-rmse:12.0473\n",
      "[12]\tvalidation_0-rmse:9.78693\tvalidation_1-rmse:11.026\n",
      "[13]\tvalidation_0-rmse:8.9003\tvalidation_1-rmse:10.0384\n",
      "[14]\tvalidation_0-rmse:8.09435\tvalidation_1-rmse:9.19183\n",
      "[15]\tvalidation_0-rmse:7.36797\tvalidation_1-rmse:8.41542\n",
      "[16]\tvalidation_0-rmse:6.7098\tvalidation_1-rmse:7.688\n",
      "[17]\tvalidation_0-rmse:6.11248\tvalidation_1-rmse:7.05566\n",
      "[18]\tvalidation_0-rmse:5.57267\tvalidation_1-rmse:6.49313\n",
      "[19]\tvalidation_0-rmse:5.08334\tvalidation_1-rmse:5.98355\n",
      "[20]\tvalidation_0-rmse:4.64117\tvalidation_1-rmse:5.5179\n",
      "[21]\tvalidation_0-rmse:4.24315\tvalidation_1-rmse:5.10076\n",
      "[22]\tvalidation_0-rmse:3.88374\tvalidation_1-rmse:4.7263\n",
      "[23]\tvalidation_0-rmse:3.55941\tvalidation_1-rmse:4.39831\n",
      "[24]\tvalidation_0-rmse:3.26767\tvalidation_1-rmse:4.10962\n",
      "[25]\tvalidation_0-rmse:3.00541\tvalidation_1-rmse:3.85014\n",
      "[26]\tvalidation_0-rmse:2.76919\tvalidation_1-rmse:3.59278\n",
      "[27]\tvalidation_0-rmse:2.55762\tvalidation_1-rmse:3.39852\n",
      "[28]\tvalidation_0-rmse:2.36841\tvalidation_1-rmse:3.22044\n",
      "[29]\tvalidation_0-rmse:2.19931\tvalidation_1-rmse:3.06154\n",
      "[30]\tvalidation_0-rmse:2.04819\tvalidation_1-rmse:2.91795\n",
      "[31]\tvalidation_0-rmse:1.9144\tvalidation_1-rmse:2.79554\n",
      "[32]\tvalidation_0-rmse:1.79624\tvalidation_1-rmse:2.68224\n",
      "[33]\tvalidation_0-rmse:1.69213\tvalidation_1-rmse:2.59498\n",
      "[34]\tvalidation_0-rmse:1.6003\tvalidation_1-rmse:2.518\n",
      "[35]\tvalidation_0-rmse:1.51995\tvalidation_1-rmse:2.45005\n",
      "[36]\tvalidation_0-rmse:1.44966\tvalidation_1-rmse:2.3896\n",
      "[37]\tvalidation_0-rmse:1.38837\tvalidation_1-rmse:2.34002\n",
      "[38]\tvalidation_0-rmse:1.33546\tvalidation_1-rmse:2.29513\n",
      "[39]\tvalidation_0-rmse:1.28911\tvalidation_1-rmse:2.25803\n",
      "[40]\tvalidation_0-rmse:1.24904\tvalidation_1-rmse:2.22304\n",
      "[41]\tvalidation_0-rmse:1.21189\tvalidation_1-rmse:2.18979\n",
      "[42]\tvalidation_0-rmse:1.17917\tvalidation_1-rmse:2.16655\n",
      "[43]\tvalidation_0-rmse:1.15308\tvalidation_1-rmse:2.14254\n",
      "[44]\tvalidation_0-rmse:1.12865\tvalidation_1-rmse:2.12693\n",
      "[45]\tvalidation_0-rmse:1.10691\tvalidation_1-rmse:2.11628\n",
      "[46]\tvalidation_0-rmse:1.08946\tvalidation_1-rmse:2.11359\n",
      "[47]\tvalidation_0-rmse:1.07124\tvalidation_1-rmse:2.09936\n",
      "[48]\tvalidation_0-rmse:1.05619\tvalidation_1-rmse:2.09081\n",
      "[49]\tvalidation_0-rmse:1.04493\tvalidation_1-rmse:2.08456\n",
      "[50]\tvalidation_0-rmse:1.03469\tvalidation_1-rmse:2.07741\n",
      "[51]\tvalidation_0-rmse:1.02264\tvalidation_1-rmse:2.06713\n",
      "[52]\tvalidation_0-rmse:1.00929\tvalidation_1-rmse:2.05661\n",
      "[53]\tvalidation_0-rmse:1.00165\tvalidation_1-rmse:2.0519\n",
      "[54]\tvalidation_0-rmse:0.989566\tvalidation_1-rmse:2.04375\n",
      "[55]\tvalidation_0-rmse:0.98013\tvalidation_1-rmse:2.03528\n",
      "[56]\tvalidation_0-rmse:0.975367\tvalidation_1-rmse:2.0334\n",
      "[57]\tvalidation_0-rmse:0.967653\tvalidation_1-rmse:2.02762\n",
      "[58]\tvalidation_0-rmse:0.960941\tvalidation_1-rmse:2.02299\n",
      "[59]\tvalidation_0-rmse:0.955078\tvalidation_1-rmse:2.01769\n",
      "[60]\tvalidation_0-rmse:0.951887\tvalidation_1-rmse:2.01658\n",
      "[61]\tvalidation_0-rmse:0.946712\tvalidation_1-rmse:2.01274\n",
      "[62]\tvalidation_0-rmse:0.944067\tvalidation_1-rmse:2.01242\n",
      "[63]\tvalidation_0-rmse:0.939839\tvalidation_1-rmse:2.00982\n",
      "[64]\tvalidation_0-rmse:0.936004\tvalidation_1-rmse:2.00736\n",
      "[65]\tvalidation_0-rmse:0.933913\tvalidation_1-rmse:2.00764\n",
      "[66]\tvalidation_0-rmse:0.928656\tvalidation_1-rmse:2.00787\n",
      "[67]\tvalidation_0-rmse:0.92673\tvalidation_1-rmse:2.00635\n",
      "[68]\tvalidation_0-rmse:0.921631\tvalidation_1-rmse:2.00975\n",
      "[69]\tvalidation_0-rmse:0.917193\tvalidation_1-rmse:2.01014\n",
      "[70]\tvalidation_0-rmse:0.915539\tvalidation_1-rmse:2.00897\n",
      "[71]\tvalidation_0-rmse:0.914589\tvalidation_1-rmse:2.00876\n",
      "[72]\tvalidation_0-rmse:0.912915\tvalidation_1-rmse:2.00775\n",
      "[73]\tvalidation_0-rmse:0.911584\tvalidation_1-rmse:2.00725\n",
      "[74]\tvalidation_0-rmse:0.910813\tvalidation_1-rmse:2.00628\n",
      "[75]\tvalidation_0-rmse:0.908513\tvalidation_1-rmse:2.00714\n",
      "[76]\tvalidation_0-rmse:0.907346\tvalidation_1-rmse:2.00678\n",
      "[77]\tvalidation_0-rmse:0.906719\tvalidation_1-rmse:2.00684\n",
      "[78]\tvalidation_0-rmse:0.904708\tvalidation_1-rmse:2.00814\n",
      "[79]\tvalidation_0-rmse:0.904049\tvalidation_1-rmse:2.00873\n",
      "[80]\tvalidation_0-rmse:0.90314\tvalidation_1-rmse:2.00577\n",
      "[81]\tvalidation_0-rmse:0.901391\tvalidation_1-rmse:2.00607\n",
      "[82]\tvalidation_0-rmse:0.898567\tvalidation_1-rmse:2.00617\n",
      "[83]\tvalidation_0-rmse:0.895394\tvalidation_1-rmse:2.00752\n",
      "[84]\tvalidation_0-rmse:0.893676\tvalidation_1-rmse:2.0084\n",
      "[85]\tvalidation_0-rmse:0.89329\tvalidation_1-rmse:2.0086\n",
      "[86]\tvalidation_0-rmse:0.892879\tvalidation_1-rmse:2.00915\n",
      "[87]\tvalidation_0-rmse:0.891377\tvalidation_1-rmse:2.00879\n",
      "[88]\tvalidation_0-rmse:0.89088\tvalidation_1-rmse:2.01116\n",
      "[89]\tvalidation_0-rmse:0.883736\tvalidation_1-rmse:2.01155\n",
      "[90]\tvalidation_0-rmse:0.883048\tvalidation_1-rmse:2.01118\n",
      "[91]\tvalidation_0-rmse:0.880517\tvalidation_1-rmse:2.01131\n",
      "[92]\tvalidation_0-rmse:0.879744\tvalidation_1-rmse:2.01103\n",
      "[93]\tvalidation_0-rmse:0.876892\tvalidation_1-rmse:2.01254\n",
      "[94]\tvalidation_0-rmse:0.874676\tvalidation_1-rmse:2.01364\n",
      "[95]\tvalidation_0-rmse:0.874083\tvalidation_1-rmse:2.0134\n",
      "[96]\tvalidation_0-rmse:0.873263\tvalidation_1-rmse:2.01363\n",
      "[97]\tvalidation_0-rmse:0.871898\tvalidation_1-rmse:2.01314\n",
      "[98]\tvalidation_0-rmse:0.871028\tvalidation_1-rmse:2.01312\n",
      "[99]\tvalidation_0-rmse:0.865694\tvalidation_1-rmse:2.01341\n"
     ]
    },
    {
     "data": {
      "text/plain": [
       "XGBRegressor(base_score=0.5, booster='gbtree', colsample_bylevel=1,\n",
       "       colsample_bytree=1, gamma=0, importance_type='gain',\n",
       "       learning_rate=0.1, max_delta_step=0, max_depth=3,\n",
       "       min_child_weight=1, missing=None, n_estimators=100, n_jobs=1,\n",
       "       nthread=None, objective='reg:linear', random_state=0, reg_alpha=0,\n",
       "       reg_lambda=1, scale_pos_weight=1, seed=None, silent=True,\n",
       "       subsample=1)"
      ]
     },
     "execution_count": 20,
     "metadata": {},
     "output_type": "execute_result"
    }
   ],
   "source": [
    "xgb_reg.fit(X_train, y_train, eval_set=[(X_train, y_train), (X_val, y_val)])"
   ]
  },
  {
   "cell_type": "code",
   "execution_count": 21,
   "metadata": {},
   "outputs": [
    {
     "data": {
      "text/plain": [
       "{'validation_0': {'rmse': [31.383316,\n",
       "   28.443073,\n",
       "   25.779819,\n",
       "   23.374105,\n",
       "   21.199375,\n",
       "   19.232855,\n",
       "   17.443323,\n",
       "   15.828955,\n",
       "   14.375546,\n",
       "   13.05057,\n",
       "   11.852654,\n",
       "   10.7703,\n",
       "   9.78693,\n",
       "   8.900305,\n",
       "   8.094347,\n",
       "   7.367967,\n",
       "   6.709801,\n",
       "   6.112479,\n",
       "   5.572667,\n",
       "   5.083337,\n",
       "   4.641174,\n",
       "   4.243147,\n",
       "   3.883737,\n",
       "   3.559411,\n",
       "   3.26767,\n",
       "   3.005411,\n",
       "   2.769189,\n",
       "   2.557618,\n",
       "   2.368414,\n",
       "   2.199307,\n",
       "   2.048188,\n",
       "   1.914395,\n",
       "   1.796238,\n",
       "   1.692127,\n",
       "   1.600299,\n",
       "   1.519955,\n",
       "   1.44966,\n",
       "   1.388371,\n",
       "   1.335463,\n",
       "   1.289112,\n",
       "   1.249037,\n",
       "   1.211885,\n",
       "   1.179169,\n",
       "   1.153077,\n",
       "   1.128652,\n",
       "   1.106905,\n",
       "   1.089465,\n",
       "   1.071241,\n",
       "   1.056195,\n",
       "   1.044925,\n",
       "   1.034688,\n",
       "   1.022643,\n",
       "   1.009294,\n",
       "   1.001647,\n",
       "   0.989566,\n",
       "   0.98013,\n",
       "   0.975367,\n",
       "   0.967653,\n",
       "   0.960941,\n",
       "   0.955078,\n",
       "   0.951887,\n",
       "   0.946712,\n",
       "   0.944067,\n",
       "   0.939839,\n",
       "   0.936004,\n",
       "   0.933913,\n",
       "   0.928656,\n",
       "   0.92673,\n",
       "   0.921631,\n",
       "   0.917193,\n",
       "   0.915539,\n",
       "   0.914589,\n",
       "   0.912915,\n",
       "   0.911584,\n",
       "   0.910813,\n",
       "   0.908513,\n",
       "   0.907346,\n",
       "   0.906719,\n",
       "   0.904708,\n",
       "   0.904049,\n",
       "   0.90314,\n",
       "   0.901391,\n",
       "   0.898567,\n",
       "   0.895394,\n",
       "   0.893676,\n",
       "   0.89329,\n",
       "   0.892879,\n",
       "   0.891377,\n",
       "   0.89088,\n",
       "   0.883736,\n",
       "   0.883048,\n",
       "   0.880517,\n",
       "   0.879744,\n",
       "   0.876892,\n",
       "   0.874676,\n",
       "   0.874083,\n",
       "   0.873263,\n",
       "   0.871898,\n",
       "   0.871028,\n",
       "   0.865694]},\n",
       " 'validation_1': {'rmse': [34.206535,\n",
       "   31.032089,\n",
       "   28.165298,\n",
       "   25.530348,\n",
       "   23.244751,\n",
       "   21.090483,\n",
       "   19.165369,\n",
       "   17.428204,\n",
       "   15.868765,\n",
       "   14.44561,\n",
       "   13.200444,\n",
       "   12.047262,\n",
       "   11.025967,\n",
       "   10.038447,\n",
       "   9.191828,\n",
       "   8.415418,\n",
       "   7.687996,\n",
       "   7.055659,\n",
       "   6.493126,\n",
       "   5.983546,\n",
       "   5.5179,\n",
       "   5.100764,\n",
       "   4.726296,\n",
       "   4.398313,\n",
       "   4.109621,\n",
       "   3.850141,\n",
       "   3.592781,\n",
       "   3.398523,\n",
       "   3.220442,\n",
       "   3.061539,\n",
       "   2.917954,\n",
       "   2.795536,\n",
       "   2.682245,\n",
       "   2.594985,\n",
       "   2.518003,\n",
       "   2.450052,\n",
       "   2.3896,\n",
       "   2.340017,\n",
       "   2.295126,\n",
       "   2.258031,\n",
       "   2.223036,\n",
       "   2.189791,\n",
       "   2.166552,\n",
       "   2.142542,\n",
       "   2.126926,\n",
       "   2.116278,\n",
       "   2.113585,\n",
       "   2.099357,\n",
       "   2.09081,\n",
       "   2.084561,\n",
       "   2.077408,\n",
       "   2.067127,\n",
       "   2.056606,\n",
       "   2.051902,\n",
       "   2.043747,\n",
       "   2.035284,\n",
       "   2.033397,\n",
       "   2.027617,\n",
       "   2.022994,\n",
       "   2.017692,\n",
       "   2.016583,\n",
       "   2.012742,\n",
       "   2.012416,\n",
       "   2.009822,\n",
       "   2.007358,\n",
       "   2.007642,\n",
       "   2.007871,\n",
       "   2.006352,\n",
       "   2.009747,\n",
       "   2.010137,\n",
       "   2.008966,\n",
       "   2.008761,\n",
       "   2.007751,\n",
       "   2.007255,\n",
       "   2.006276,\n",
       "   2.007136,\n",
       "   2.00678,\n",
       "   2.006838,\n",
       "   2.008136,\n",
       "   2.008726,\n",
       "   2.00577,\n",
       "   2.006067,\n",
       "   2.006166,\n",
       "   2.007517,\n",
       "   2.008402,\n",
       "   2.008597,\n",
       "   2.009148,\n",
       "   2.008788,\n",
       "   2.011164,\n",
       "   2.011547,\n",
       "   2.011184,\n",
       "   2.011309,\n",
       "   2.011032,\n",
       "   2.012543,\n",
       "   2.013641,\n",
       "   2.013397,\n",
       "   2.013629,\n",
       "   2.013142,\n",
       "   2.013118,\n",
       "   2.013406]}}"
      ]
     },
     "execution_count": 21,
     "metadata": {},
     "output_type": "execute_result"
    }
   ],
   "source": [
    "result = xgb_reg.evals_result()\n",
    "result"
   ]
  },
  {
   "cell_type": "code",
   "execution_count": 23,
   "metadata": {},
   "outputs": [
    {
     "data": {
      "text/plain": [
       "100"
      ]
     },
     "execution_count": 23,
     "metadata": {},
     "output_type": "execute_result"
    }
   ],
   "source": [
    "iteration = len(result['validation_0']['rmse'])\n",
    "iteration"
   ]
  },
  {
   "cell_type": "code",
   "execution_count": 28,
   "metadata": {},
   "outputs": [
    {
     "data": {
      "text/plain": [
       "<matplotlib.legend.Legend at 0x7f8fd5344e10>"
      ]
     },
     "execution_count": 28,
     "metadata": {},
     "output_type": "execute_result"
    },
    {
     "data": {
      "image/png": "[encoded data removed]",
      "text/plain": [
       "<Figure size 432x288 with 1 Axes>"
      ]
     },
     "metadata": {},
     "output_type": "display_data"
    }
   ],
   "source": [
    "plt.plot(range(1, iteration+1) , result['validation_0']['rmse'], label= 'training error(rmse)')\n",
    "plt.plot(range(1, iteration +1) , result['validation_1']['rmse'],c= 'green',marker='+',label= 'validation error(rmse)')\n",
    "plt.grid(True)\n",
    "plt.xlabel('iteration')\n",
    "plt.ylabel('rmse')\n",
    "plt.title('plot of training and validation error vs iterations')\n",
    "plt.legend()"
   ]
  },
  {
   "cell_type": "code",
   "execution_count": 31,
   "metadata": {},
   "outputs": [
    {
     "data": {
      "text/plain": [
       "((160, 1), (160,))"
      ]
     },
     "execution_count": 31,
     "metadata": {},
     "output_type": "execute_result"
    }
   ],
   "source": [
    "X_train.shape, y_train.shape"
   ]
  },
  {
   "cell_type": "code",
   "execution_count": 34,
   "metadata": {},
   "outputs": [
    {
     "data": {
      "text/plain": [
       "array([[1.       , 0.9988353],\n",
       "       [0.9988353, 1.       ]])"
      ]
     },
     "execution_count": 34,
     "metadata": {},
     "output_type": "execute_result"
    }
   ],
   "source": [
    "np.corrcoef(X_train.ravel(), y_train)"
   ]
  },
  {
   "cell_type": "code",
   "execution_count": 35,
   "metadata": {},
   "outputs": [],
   "source": [
    "y_pred = xgb_reg.predict(X_train)"
   ]
  },
  {
   "cell_type": "code",
   "execution_count": 36,
   "metadata": {},
   "outputs": [],
   "source": [
    "residual = y_pred- y_train"
   ]
  },
  {
   "cell_type": "code",
   "execution_count": 37,
   "metadata": {},
   "outputs": [
    {
     "data": {
      "text/plain": [
       "(array([ 4.,  8., 14., 25., 61., 28.,  8.,  8.,  3.,  1.]),\n",
       " array([-2.38737583, -1.85090426, -1.31443269, -0.77796111, -0.24148954,\n",
       "         0.29498203,  0.8314536 ,  1.36792517,  1.90439674,  2.44086831,\n",
       "         2.97733989]),\n",
       " <a list of 10 Patch objects>)"
      ]
     },
     "execution_count": 37,
     "metadata": {},
     "output_type": "execute_result"
    },
    {
     "data": {
      "image/png": "[encoded data removed]",
      "text/plain": [
       "<Figure size 432x288 with 1 Axes>"
      ]
     },
     "metadata": {},
     "output_type": "display_data"
    }
   ],
   "source": [
    "plt.hist(residual)"
   ]
  },
  {
   "cell_type": "code",
   "execution_count": 39,
   "metadata": {},
   "outputs": [
    {
     "data": {
      "text/plain": [
       "<matplotlib.axes._subplots.AxesSubplot at 0x7f8fd52e4dd8>"
      ]
     },
     "execution_count": 39,
     "metadata": {},
     "output_type": "execute_result"
    },
    {
     "data": {
      "image/png": "[encoded data removed]",
      "text/plain": [
       "<Figure size 432x288 with 1 Axes>"
      ]
     },
     "metadata": {},
     "output_type": "display_data"
    }
   ],
   "source": [
    "xgb.plot_importance(xgb_reg)"
   ]
  },
  {
   "cell_type": "code",
   "execution_count": 41,
   "metadata": {},
   "outputs": [
    {
     "data": {
      "text/plain": [
       "array([-395,  805])"
      ]
     },
     "execution_count": 41,
     "metadata": {},
     "output_type": "execute_result"
    }
   ],
   "source": [
    "x_new = np.array([-100, 200])\n",
    "4*x_new + 5"
   ]
  },
  {
   "cell_type": "code",
   "execution_count": 42,
   "metadata": {},
   "outputs": [
    {
     "data": {
      "text/plain": [
       "(-55.03706, 65.4101)"
      ]
     },
     "execution_count": 42,
     "metadata": {},
     "output_type": "execute_result"
    }
   ],
   "source": [
    "np.min(y_pred), np.max(y_pred)"
   ]
  },
  {
   "cell_type": "code",
   "execution_count": 45,
   "metadata": {},
   "outputs": [
    {
     "data": {
      "text/plain": [
       "array([-54.702652,  65.4101  ], dtype=float32)"
      ]
     },
     "execution_count": 45,
     "metadata": {},
     "output_type": "execute_result"
    }
   ],
   "source": [
    "xgb_reg.predict(x_new[:, np.newaxis])"
   ]
  },
  {
   "cell_type": "code",
   "execution_count": null,
   "metadata": {},
   "outputs": [],
   "source": []
  }
 ],
 "metadata": {
  "kernelspec": {
   "display_name": "conda_python3",
   "language": "python",
   "name": "conda_python3"
  },
  "language_info": {
   "codemirror_mode": {
    "name": "ipython",
    "version": 3
   },
   "file_extension": ".py",
   "mimetype": "text/x-python",
   "name": "python",
   "nbconvert_exporter": "python",
   "pygments_lexer": "ipython3",
   "version": "3.6.5"
  }
 },
 "nbformat": 4,
 "nbformat_minor": 2
}
