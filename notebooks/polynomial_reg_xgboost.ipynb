{
 "cells": [
  {
   "cell_type": "markdown",
   "metadata": {},
   "source": [
    "$y = 4 x^3 + 2 x^2 + x +5$"
   ]
  },
  {
   "cell_type": "code",
   "execution_count": 3,
   "metadata": {},
   "outputs": [],
   "source": [
    "import numpy as np\n",
    "import matplotlib.pyplot as plt\n",
    "%matplotlib inline\n",
    "import xgboost as xgb"
   ]
  },
  {
   "cell_type": "code",
   "execution_count": 5,
   "metadata": {},
   "outputs": [
    {
     "data": {
      "text/plain": [
       "array([-20.        , -19.79899497, -19.59798995, -19.39698492,\n",
       "       -19.1959799 , -18.99497487, -18.79396985, -18.59296482,\n",
       "       -18.3919598 , -18.19095477])"
      ]
     },
     "execution_count": 5,
     "metadata": {},
     "output_type": "execute_result"
    }
   ],
   "source": [
    "X = np.linspace(-20, 20, 200)\n",
    "X[0:10]"
   ]
  },
  {
   "cell_type": "code",
   "execution_count": 8,
   "metadata": {},
   "outputs": [
    {
     "data": {
      "text/plain": [
       "array([-31215.        , -30275.63871033, -29355.3143492 , -28453.83200757,\n",
       "       -27570.99677639, -26706.61374662, -25860.48800922, -25032.42465516,\n",
       "       -24222.22877538, -23429.70546084])"
      ]
     },
     "execution_count": 8,
     "metadata": {},
     "output_type": "execute_result"
    }
   ],
   "source": [
    "y_true = 4*X**3 + 2*X**2 + X +5\n",
    "y[0:10]"
   ]
  },
  {
   "cell_type": "code",
   "execution_count": 17,
   "metadata": {},
   "outputs": [
    {
     "data": {
      "text/plain": [
       "array([-31210.80183406, -30278.93687741, -29361.73270519, -28451.16047925,\n",
       "       -27569.68390573, -26701.29489038, -25862.97410113, -25032.72628781,\n",
       "       -24220.37184466, -23428.03313683])"
      ]
     },
     "execution_count": 17,
     "metadata": {},
     "output_type": "execute_result"
    }
   ],
   "source": [
    "y_noisy = y_true + np.random.randn(len(y_true))*3\n",
    "y_noisy[0:10]"
   ]
  },
  {
   "cell_type": "code",
   "execution_count": 19,
   "metadata": {},
   "outputs": [],
   "source": [
    "from sklearn.model_selection import  train_test_split"
   ]
  },
  {
   "cell_type": "code",
   "execution_count": 22,
   "metadata": {},
   "outputs": [],
   "source": [
    "X_train, X_val, y_train, y_val = train_test_split(X, y_noisy, test_size= .2, random_state =2)"
   ]
  },
  {
   "cell_type": "code",
   "execution_count": null,
   "metadata": {},
   "outputs": [],
   "source": []
  },
  {
   "cell_type": "code",
   "execution_count": null,
   "metadata": {},
   "outputs": [],
   "source": []
  },
  {
   "cell_type": "code",
   "execution_count": 23,
   "metadata": {},
   "outputs": [
    {
     "data": {
      "text/plain": [
       "<matplotlib.legend.Legend at 0x7f52b3d40128>"
      ]
     },
     "execution_count": 23,
     "metadata": {},
     "output_type": "execute_result"
    },
    {
     "data": {
      "image/png": "[encoded data removed]",
      "text/plain": [
       "<Figure size 432x288 with 1 Axes>"
      ]
     },
     "metadata": {},
     "output_type": "display_data"
    }
   ],
   "source": [
    "plt.scatter(X_train, y_train, label = 'Training data')\n",
    "plt.scatter(X_val, y_val, c='red', marker='+', label = 'Validation')\n",
    "plt.grid(True)\n",
    "plt.legend()"
   ]
  },
  {
   "cell_type": "code",
   "execution_count": 24,
   "metadata": {},
   "outputs": [
    {
     "data": {
      "text/plain": [
       "array([[1.        , 0.91020102],\n",
       "       [0.91020102, 1.        ]])"
      ]
     },
     "execution_count": 24,
     "metadata": {},
     "output_type": "execute_result"
    }
   ],
   "source": [
    "np.corrcoef(X_train, y_train)"
   ]
  },
  {
   "cell_type": "code",
   "execution_count": 25,
   "metadata": {},
   "outputs": [],
   "source": [
    "from sklearn.linear_model import  LinearRegression"
   ]
  },
  {
   "cell_type": "code",
   "execution_count": 26,
   "metadata": {},
   "outputs": [],
   "source": [
    "linear_reg = LinearRegression()"
   ]
  },
  {
   "cell_type": "code",
   "execution_count": 28,
   "metadata": {},
   "outputs": [],
   "source": [
    "X_train= X_train[:,np.newaxis]\n",
    "X_val= X_val[:,np.newaxis]"
   ]
  },
  {
   "cell_type": "code",
   "execution_count": 29,
   "metadata": {},
   "outputs": [
    {
     "data": {
      "text/plain": [
       "LinearRegression(copy_X=True, fit_intercept=True, n_jobs=1, normalize=False)"
      ]
     },
     "execution_count": 29,
     "metadata": {},
     "output_type": "execute_result"
    }
   ],
   "source": [
    "linear_reg.fit(X_train, y_train)"
   ]
  },
  {
   "cell_type": "code",
   "execution_count": 41,
   "metadata": {},
   "outputs": [],
   "source": [
    "y_pred_linear = linear_reg.predict(X_train)"
   ]
  },
  {
   "cell_type": "code",
   "execution_count": 42,
   "metadata": {},
   "outputs": [],
   "source": [
    "from sklearn.metrics import mean_squared_error"
   ]
  },
  {
   "cell_type": "code",
   "execution_count": 46,
   "metadata": {},
   "outputs": [],
   "source": [
    "rmse_train = mean_squared_error(y_train, y_pred_linear)**(.5)"
   ]
  },
  {
   "cell_type": "code",
   "execution_count": 44,
   "metadata": {},
   "outputs": [],
   "source": [
    "y_val_pred = linear_reg.predict(X_val)"
   ]
  },
  {
   "cell_type": "code",
   "execution_count": 45,
   "metadata": {},
   "outputs": [],
   "source": [
    "rmse_val = mean_squared_error(y_val, y_val_pred)**(.5)"
   ]
  },
  {
   "cell_type": "code",
   "execution_count": 47,
   "metadata": {},
   "outputs": [
    {
     "ename": "ValueError",
     "evalue": "x and y must have same first dimension, but have shapes (100,) and (1,)",
     "output_type": "error",
     "traceback": [
      "\u001b[0;31m---------------------------------------------------------------------------\u001b[0m",
      "\u001b[0;31mValueError\u001b[0m                                Traceback (most recent call last)",
      "\u001b[0;32m<ipython-input-47-1d72b4657918>\u001b[0m in \u001b[0;36m<module>\u001b[0;34m()\u001b[0m\n\u001b[0;32m----> 1\u001b[0;31m \u001b[0mplt\u001b[0m\u001b[0;34m.\u001b[0m\u001b[0mplot\u001b[0m\u001b[0;34m(\u001b[0m\u001b[0mrange\u001b[0m\u001b[0;34m(\u001b[0m\u001b[0;36m1\u001b[0m\u001b[0;34m,\u001b[0m \u001b[0miteration\u001b[0m\u001b[0;34m+\u001b[0m\u001b[0;36m1\u001b[0m\u001b[0;34m)\u001b[0m \u001b[0;34m,\u001b[0m \u001b[0mrmse_train\u001b[0m\u001b[0;34m,\u001b[0m \u001b[0mlabel\u001b[0m\u001b[0;34m=\u001b[0m \u001b[0;34m'training error(rmse)'\u001b[0m\u001b[0;34m)\u001b[0m\u001b[0;34m\u001b[0m\u001b[0m\n\u001b[0m\u001b[1;32m      2\u001b[0m \u001b[0mplt\u001b[0m\u001b[0;34m.\u001b[0m\u001b[0mplot\u001b[0m\u001b[0;34m(\u001b[0m\u001b[0mrange\u001b[0m\u001b[0;34m(\u001b[0m\u001b[0;36m1\u001b[0m\u001b[0;34m,\u001b[0m \u001b[0miteration\u001b[0m \u001b[0;34m+\u001b[0m\u001b[0;36m1\u001b[0m\u001b[0;34m)\u001b[0m \u001b[0;34m,\u001b[0m \u001b[0mrmse_val\u001b[0m\u001b[0;34m,\u001b[0m\u001b[0mc\u001b[0m\u001b[0;34m=\u001b[0m \u001b[0;34m'green'\u001b[0m\u001b[0;34m,\u001b[0m\u001b[0mmarker\u001b[0m\u001b[0;34m=\u001b[0m\u001b[0;34m'+'\u001b[0m\u001b[0;34m,\u001b[0m\u001b[0mlabel\u001b[0m\u001b[0;34m=\u001b[0m \u001b[0;34m'validation error(rmse)'\u001b[0m\u001b[0;34m)\u001b[0m\u001b[0;34m\u001b[0m\u001b[0m\n\u001b[1;32m      3\u001b[0m \u001b[0mplt\u001b[0m\u001b[0;34m.\u001b[0m\u001b[0mgrid\u001b[0m\u001b[0;34m(\u001b[0m\u001b[0;32mTrue\u001b[0m\u001b[0;34m)\u001b[0m\u001b[0;34m\u001b[0m\u001b[0m\n\u001b[1;32m      4\u001b[0m \u001b[0mplt\u001b[0m\u001b[0;34m.\u001b[0m\u001b[0mxlabel\u001b[0m\u001b[0;34m(\u001b[0m\u001b[0;34m'iteration'\u001b[0m\u001b[0;34m)\u001b[0m\u001b[0;34m\u001b[0m\u001b[0m\n\u001b[1;32m      5\u001b[0m \u001b[0mplt\u001b[0m\u001b[0;34m.\u001b[0m\u001b[0mylabel\u001b[0m\u001b[0;34m(\u001b[0m\u001b[0;34m'rmse'\u001b[0m\u001b[0;34m)\u001b[0m\u001b[0;34m\u001b[0m\u001b[0m\n",
      "\u001b[0;32m~/anaconda3/envs/python3/lib/python3.6/site-packages/matplotlib/pyplot.py\u001b[0m in \u001b[0;36mplot\u001b[0;34m(*args, **kwargs)\u001b[0m\n\u001b[1;32m   3356\u001b[0m                       mplDeprecation)\n\u001b[1;32m   3357\u001b[0m     \u001b[0;32mtry\u001b[0m\u001b[0;34m:\u001b[0m\u001b[0;34m\u001b[0m\u001b[0m\n\u001b[0;32m-> 3358\u001b[0;31m         \u001b[0mret\u001b[0m \u001b[0;34m=\u001b[0m \u001b[0max\u001b[0m\u001b[0;34m.\u001b[0m\u001b[0mplot\u001b[0m\u001b[0;34m(\u001b[0m\u001b[0;34m*\u001b[0m\u001b[0margs\u001b[0m\u001b[0;34m,\u001b[0m \u001b[0;34m**\u001b[0m\u001b[0mkwargs\u001b[0m\u001b[0;34m)\u001b[0m\u001b[0;34m\u001b[0m\u001b[0m\n\u001b[0m\u001b[1;32m   3359\u001b[0m     \u001b[0;32mfinally\u001b[0m\u001b[0;34m:\u001b[0m\u001b[0;34m\u001b[0m\u001b[0m\n\u001b[1;32m   3360\u001b[0m         \u001b[0max\u001b[0m\u001b[0;34m.\u001b[0m\u001b[0m_hold\u001b[0m \u001b[0;34m=\u001b[0m \u001b[0mwashold\u001b[0m\u001b[0;34m\u001b[0m\u001b[0m\n",
      "\u001b[0;32m~/anaconda3/envs/python3/lib/python3.6/site-packages/matplotlib/__init__.py\u001b[0m in \u001b[0;36minner\u001b[0;34m(ax, *args, **kwargs)\u001b[0m\n\u001b[1;32m   1853\u001b[0m                         \u001b[0;34m\"the Matplotlib list!)\"\u001b[0m \u001b[0;34m%\u001b[0m \u001b[0;34m(\u001b[0m\u001b[0mlabel_namer\u001b[0m\u001b[0;34m,\u001b[0m \u001b[0mfunc\u001b[0m\u001b[0;34m.\u001b[0m\u001b[0m__name__\u001b[0m\u001b[0;34m)\u001b[0m\u001b[0;34m,\u001b[0m\u001b[0;34m\u001b[0m\u001b[0m\n\u001b[1;32m   1854\u001b[0m                         RuntimeWarning, stacklevel=2)\n\u001b[0;32m-> 1855\u001b[0;31m             \u001b[0;32mreturn\u001b[0m \u001b[0mfunc\u001b[0m\u001b[0;34m(\u001b[0m\u001b[0max\u001b[0m\u001b[0;34m,\u001b[0m \u001b[0;34m*\u001b[0m\u001b[0margs\u001b[0m\u001b[0;34m,\u001b[0m \u001b[0;34m**\u001b[0m\u001b[0mkwargs\u001b[0m\u001b[0;34m)\u001b[0m\u001b[0;34m\u001b[0m\u001b[0m\n\u001b[0m\u001b[1;32m   1856\u001b[0m \u001b[0;34m\u001b[0m\u001b[0m\n\u001b[1;32m   1857\u001b[0m         inner.__doc__ = _add_data_doc(inner.__doc__,\n",
      "\u001b[0;32m~/anaconda3/envs/python3/lib/python3.6/site-packages/matplotlib/axes/_axes.py\u001b[0m in \u001b[0;36mplot\u001b[0;34m(self, *args, **kwargs)\u001b[0m\n\u001b[1;32m   1525\u001b[0m         \u001b[0mkwargs\u001b[0m \u001b[0;34m=\u001b[0m \u001b[0mcbook\u001b[0m\u001b[0;34m.\u001b[0m\u001b[0mnormalize_kwargs\u001b[0m\u001b[0;34m(\u001b[0m\u001b[0mkwargs\u001b[0m\u001b[0;34m,\u001b[0m \u001b[0m_alias_map\u001b[0m\u001b[0;34m)\u001b[0m\u001b[0;34m\u001b[0m\u001b[0m\n\u001b[1;32m   1526\u001b[0m \u001b[0;34m\u001b[0m\u001b[0m\n\u001b[0;32m-> 1527\u001b[0;31m         \u001b[0;32mfor\u001b[0m \u001b[0mline\u001b[0m \u001b[0;32min\u001b[0m \u001b[0mself\u001b[0m\u001b[0;34m.\u001b[0m\u001b[0m_get_lines\u001b[0m\u001b[0;34m(\u001b[0m\u001b[0;34m*\u001b[0m\u001b[0margs\u001b[0m\u001b[0;34m,\u001b[0m \u001b[0;34m**\u001b[0m\u001b[0mkwargs\u001b[0m\u001b[0;34m)\u001b[0m\u001b[0;34m:\u001b[0m\u001b[0;34m\u001b[0m\u001b[0m\n\u001b[0m\u001b[1;32m   1528\u001b[0m             \u001b[0mself\u001b[0m\u001b[0;34m.\u001b[0m\u001b[0madd_line\u001b[0m\u001b[0;34m(\u001b[0m\u001b[0mline\u001b[0m\u001b[0;34m)\u001b[0m\u001b[0;34m\u001b[0m\u001b[0m\n\u001b[1;32m   1529\u001b[0m             \u001b[0mlines\u001b[0m\u001b[0;34m.\u001b[0m\u001b[0mappend\u001b[0m\u001b[0;34m(\u001b[0m\u001b[0mline\u001b[0m\u001b[0;34m)\u001b[0m\u001b[0;34m\u001b[0m\u001b[0m\n",
      "\u001b[0;32m~/anaconda3/envs/python3/lib/python3.6/site-packages/matplotlib/axes/_base.py\u001b[0m in \u001b[0;36m_grab_next_args\u001b[0;34m(self, *args, **kwargs)\u001b[0m\n\u001b[1;32m    404\u001b[0m                 \u001b[0mthis\u001b[0m \u001b[0;34m+=\u001b[0m \u001b[0margs\u001b[0m\u001b[0;34m[\u001b[0m\u001b[0;36m0\u001b[0m\u001b[0;34m]\u001b[0m\u001b[0;34m,\u001b[0m\u001b[0;34m\u001b[0m\u001b[0m\n\u001b[1;32m    405\u001b[0m                 \u001b[0margs\u001b[0m \u001b[0;34m=\u001b[0m \u001b[0margs\u001b[0m\u001b[0;34m[\u001b[0m\u001b[0;36m1\u001b[0m\u001b[0;34m:\u001b[0m\u001b[0;34m]\u001b[0m\u001b[0;34m\u001b[0m\u001b[0m\n\u001b[0;32m--> 406\u001b[0;31m             \u001b[0;32mfor\u001b[0m \u001b[0mseg\u001b[0m \u001b[0;32min\u001b[0m \u001b[0mself\u001b[0m\u001b[0;34m.\u001b[0m\u001b[0m_plot_args\u001b[0m\u001b[0;34m(\u001b[0m\u001b[0mthis\u001b[0m\u001b[0;34m,\u001b[0m \u001b[0mkwargs\u001b[0m\u001b[0;34m)\u001b[0m\u001b[0;34m:\u001b[0m\u001b[0;34m\u001b[0m\u001b[0m\n\u001b[0m\u001b[1;32m    407\u001b[0m                 \u001b[0;32myield\u001b[0m \u001b[0mseg\u001b[0m\u001b[0;34m\u001b[0m\u001b[0m\n\u001b[1;32m    408\u001b[0m \u001b[0;34m\u001b[0m\u001b[0m\n",
      "\u001b[0;32m~/anaconda3/envs/python3/lib/python3.6/site-packages/matplotlib/axes/_base.py\u001b[0m in \u001b[0;36m_plot_args\u001b[0;34m(self, tup, kwargs)\u001b[0m\n\u001b[1;32m    381\u001b[0m             \u001b[0mx\u001b[0m\u001b[0;34m,\u001b[0m \u001b[0my\u001b[0m \u001b[0;34m=\u001b[0m \u001b[0mindex_of\u001b[0m\u001b[0;34m(\u001b[0m\u001b[0mtup\u001b[0m\u001b[0;34m[\u001b[0m\u001b[0;34m-\u001b[0m\u001b[0;36m1\u001b[0m\u001b[0;34m]\u001b[0m\u001b[0;34m)\u001b[0m\u001b[0;34m\u001b[0m\u001b[0m\n\u001b[1;32m    382\u001b[0m \u001b[0;34m\u001b[0m\u001b[0m\n\u001b[0;32m--> 383\u001b[0;31m         \u001b[0mx\u001b[0m\u001b[0;34m,\u001b[0m \u001b[0my\u001b[0m \u001b[0;34m=\u001b[0m \u001b[0mself\u001b[0m\u001b[0;34m.\u001b[0m\u001b[0m_xy_from_xy\u001b[0m\u001b[0;34m(\u001b[0m\u001b[0mx\u001b[0m\u001b[0;34m,\u001b[0m \u001b[0my\u001b[0m\u001b[0;34m)\u001b[0m\u001b[0;34m\u001b[0m\u001b[0m\n\u001b[0m\u001b[1;32m    384\u001b[0m \u001b[0;34m\u001b[0m\u001b[0m\n\u001b[1;32m    385\u001b[0m         \u001b[0;32mif\u001b[0m \u001b[0mself\u001b[0m\u001b[0;34m.\u001b[0m\u001b[0mcommand\u001b[0m \u001b[0;34m==\u001b[0m \u001b[0;34m'plot'\u001b[0m\u001b[0;34m:\u001b[0m\u001b[0;34m\u001b[0m\u001b[0m\n",
      "\u001b[0;32m~/anaconda3/envs/python3/lib/python3.6/site-packages/matplotlib/axes/_base.py\u001b[0m in \u001b[0;36m_xy_from_xy\u001b[0;34m(self, x, y)\u001b[0m\n\u001b[1;32m    240\u001b[0m         \u001b[0;32mif\u001b[0m \u001b[0mx\u001b[0m\u001b[0;34m.\u001b[0m\u001b[0mshape\u001b[0m\u001b[0;34m[\u001b[0m\u001b[0;36m0\u001b[0m\u001b[0;34m]\u001b[0m \u001b[0;34m!=\u001b[0m \u001b[0my\u001b[0m\u001b[0;34m.\u001b[0m\u001b[0mshape\u001b[0m\u001b[0;34m[\u001b[0m\u001b[0;36m0\u001b[0m\u001b[0;34m]\u001b[0m\u001b[0;34m:\u001b[0m\u001b[0;34m\u001b[0m\u001b[0m\n\u001b[1;32m    241\u001b[0m             raise ValueError(\"x and y must have same first dimension, but \"\n\u001b[0;32m--> 242\u001b[0;31m                              \"have shapes {} and {}\".format(x.shape, y.shape))\n\u001b[0m\u001b[1;32m    243\u001b[0m         \u001b[0;32mif\u001b[0m \u001b[0mx\u001b[0m\u001b[0;34m.\u001b[0m\u001b[0mndim\u001b[0m \u001b[0;34m>\u001b[0m \u001b[0;36m2\u001b[0m \u001b[0;32mor\u001b[0m \u001b[0my\u001b[0m\u001b[0;34m.\u001b[0m\u001b[0mndim\u001b[0m \u001b[0;34m>\u001b[0m \u001b[0;36m2\u001b[0m\u001b[0;34m:\u001b[0m\u001b[0;34m\u001b[0m\u001b[0m\n\u001b[1;32m    244\u001b[0m             raise ValueError(\"x and y can be no greater than 2-D, but have \"\n",
      "\u001b[0;31mValueError\u001b[0m: x and y must have same first dimension, but have shapes (100,) and (1,)"
     ]
    },
    {
     "data": {
      "image/png": "[encoded data removed]",
      "text/plain": [
       "<Figure size 432x288 with 1 Axes>"
      ]
     },
     "metadata": {},
     "output_type": "display_data"
    }
   ],
   "source": [
    "plt.plot(range(1, iteration+1) , rmse_train, label= 'training error(rmse)')\n",
    "plt.plot(range(1, iteration +1) , rmse_val,c= 'green',marker='+',label= 'validation error(rmse)')\n",
    "plt.grid(True)\n",
    "plt.xlabel('iteration')\n",
    "plt.ylabel('rmse')\n",
    "plt.title('plot of training and validation error vs iterations')\n",
    "plt.legend()"
   ]
  },
  {
   "cell_type": "code",
   "execution_count": null,
   "metadata": {},
   "outputs": [],
   "source": []
  },
  {
   "cell_type": "code",
   "execution_count": 32,
   "metadata": {},
   "outputs": [
    {
     "data": {
      "text/plain": [
       "<matplotlib.legend.Legend at 0x7f52a8b3c7b8>"
      ]
     },
     "execution_count": 32,
     "metadata": {},
     "output_type": "execute_result"
    },
    {
     "data": {
      "image/png": "[encoded data removed]",
      "text/plain": [
       "<Figure size 432x288 with 1 Axes>"
      ]
     },
     "metadata": {},
     "output_type": "display_data"
    }
   ],
   "source": [
    "plt.scatter(X_train, y_train, label = 'Training data')\n",
    "plt.scatter(X_train, y_pred_linear, c='red', marker='+', label = 'fitted')\n",
    "plt.grid(True)\n",
    "plt.legend()"
   ]
  },
  {
   "cell_type": "code",
   "execution_count": 33,
   "metadata": {},
   "outputs": [],
   "source": [
    "xgb_reg= xgb.XGBRegressor()"
   ]
  },
  {
   "cell_type": "code",
   "execution_count": 35,
   "metadata": {},
   "outputs": [
    {
     "name": "stdout",
     "output_type": "stream",
     "text": [
      "[0]\tvalidation_0-rmse:10639\tvalidation_1-rmse:13281.5\n",
      "[1]\tvalidation_0-rmse:9707.37\tvalidation_1-rmse:12083\n",
      "[2]\tvalidation_0-rmse:8858.47\tvalidation_1-rmse:11125.9\n",
      "[3]\tvalidation_0-rmse:8084.48\tvalidation_1-rmse:10161.3\n",
      "[4]\tvalidation_0-rmse:7381.13\tvalidation_1-rmse:9320.04\n",
      "[5]\tvalidation_0-rmse:6739.18\tvalidation_1-rmse:8507.96\n",
      "[6]\tvalidation_0-rmse:6155.45\tvalidation_1-rmse:7765.17\n",
      "[7]\tvalidation_0-rmse:5627.97\tvalidation_1-rmse:7129.91\n",
      "[8]\tvalidation_0-rmse:5142.61\tvalidation_1-rmse:6527.36\n",
      "[9]\tvalidation_0-rmse:4703.07\tvalidation_1-rmse:5990.63\n",
      "[10]\tvalidation_0-rmse:4302.43\tvalidation_1-rmse:5513.28\n",
      "[11]\tvalidation_0-rmse:3936.14\tvalidation_1-rmse:5039.54\n",
      "[12]\tvalidation_0-rmse:3600.94\tvalidation_1-rmse:4623.13\n",
      "[13]\tvalidation_0-rmse:3298.74\tvalidation_1-rmse:4230.37\n",
      "[14]\tvalidation_0-rmse:3023.48\tvalidation_1-rmse:3886.42\n",
      "[15]\tvalidation_0-rmse:2770.36\tvalidation_1-rmse:3579.81\n",
      "[16]\tvalidation_0-rmse:2541.39\tvalidation_1-rmse:3293.63\n",
      "[17]\tvalidation_0-rmse:2333.38\tvalidation_1-rmse:3031.46\n",
      "[18]\tvalidation_0-rmse:2140.99\tvalidation_1-rmse:2795.47\n",
      "[19]\tvalidation_0-rmse:1966.59\tvalidation_1-rmse:2579.58\n",
      "[20]\tvalidation_0-rmse:1806.17\tvalidation_1-rmse:2385.91\n",
      "[21]\tvalidation_0-rmse:1661.52\tvalidation_1-rmse:2208.83\n",
      "[22]\tvalidation_0-rmse:1527.99\tvalidation_1-rmse:2049.93\n",
      "[23]\tvalidation_0-rmse:1407.41\tvalidation_1-rmse:1903.33\n",
      "[24]\tvalidation_0-rmse:1295.06\tvalidation_1-rmse:1774.88\n",
      "[25]\tvalidation_0-rmse:1193.13\tvalidation_1-rmse:1660.19\n",
      "[26]\tvalidation_0-rmse:1100.24\tvalidation_1-rmse:1550.05\n",
      "[27]\tvalidation_0-rmse:1016.11\tvalidation_1-rmse:1453.19\n",
      "[28]\tvalidation_0-rmse:939.323\tvalidation_1-rmse:1367.49\n",
      "[29]\tvalidation_0-rmse:867.56\tvalidation_1-rmse:1286.05\n",
      "[30]\tvalidation_0-rmse:801.507\tvalidation_1-rmse:1210.84\n",
      "[31]\tvalidation_0-rmse:741.705\tvalidation_1-rmse:1144.53\n",
      "[32]\tvalidation_0-rmse:686.553\tvalidation_1-rmse:1081.81\n",
      "[33]\tvalidation_0-rmse:635.57\tvalidation_1-rmse:1029.26\n",
      "[34]\tvalidation_0-rmse:589.62\tvalidation_1-rmse:983.199\n",
      "[35]\tvalidation_0-rmse:547.133\tvalidation_1-rmse:941.835\n",
      "[36]\tvalidation_0-rmse:508.315\tvalidation_1-rmse:902.81\n",
      "[37]\tvalidation_0-rmse:473.047\tvalidation_1-rmse:867.532\n",
      "[38]\tvalidation_0-rmse:440.279\tvalidation_1-rmse:834.469\n",
      "[39]\tvalidation_0-rmse:410.142\tvalidation_1-rmse:803.762\n",
      "[40]\tvalidation_0-rmse:382.678\tvalidation_1-rmse:778.825\n",
      "[41]\tvalidation_0-rmse:357.279\tvalidation_1-rmse:753.431\n",
      "[42]\tvalidation_0-rmse:334.155\tvalidation_1-rmse:734.87\n",
      "[43]\tvalidation_0-rmse:313.347\tvalidation_1-rmse:717.809\n",
      "[44]\tvalidation_0-rmse:294.125\tvalidation_1-rmse:700.854\n",
      "[45]\tvalidation_0-rmse:275.92\tvalidation_1-rmse:686.572\n",
      "[46]\tvalidation_0-rmse:259.582\tvalidation_1-rmse:675.402\n",
      "[47]\tvalidation_0-rmse:244.772\tvalidation_1-rmse:664.495\n",
      "[48]\tvalidation_0-rmse:231.351\tvalidation_1-rmse:656.417\n",
      "[49]\tvalidation_0-rmse:219.306\tvalidation_1-rmse:647.666\n",
      "[50]\tvalidation_0-rmse:207.752\tvalidation_1-rmse:639.435\n",
      "[51]\tvalidation_0-rmse:197.354\tvalidation_1-rmse:632.824\n",
      "[52]\tvalidation_0-rmse:188.144\tvalidation_1-rmse:627.002\n",
      "[53]\tvalidation_0-rmse:179.374\tvalidation_1-rmse:621.213\n",
      "[54]\tvalidation_0-rmse:171.632\tvalidation_1-rmse:615.02\n",
      "[55]\tvalidation_0-rmse:163.792\tvalidation_1-rmse:609.312\n",
      "[56]\tvalidation_0-rmse:157.075\tvalidation_1-rmse:604.682\n",
      "[57]\tvalidation_0-rmse:150.444\tvalidation_1-rmse:599.321\n",
      "[58]\tvalidation_0-rmse:144.563\tvalidation_1-rmse:595.005\n",
      "[59]\tvalidation_0-rmse:139.016\tvalidation_1-rmse:591.002\n",
      "[60]\tvalidation_0-rmse:134.078\tvalidation_1-rmse:587.591\n",
      "[61]\tvalidation_0-rmse:129.193\tvalidation_1-rmse:584.215\n",
      "[62]\tvalidation_0-rmse:124.937\tvalidation_1-rmse:581.965\n",
      "[63]\tvalidation_0-rmse:121.113\tvalidation_1-rmse:579.435\n",
      "[64]\tvalidation_0-rmse:117.211\tvalidation_1-rmse:576.295\n",
      "[65]\tvalidation_0-rmse:113.871\tvalidation_1-rmse:573.296\n",
      "[66]\tvalidation_0-rmse:110.912\tvalidation_1-rmse:570.917\n",
      "[67]\tvalidation_0-rmse:108.092\tvalidation_1-rmse:568.336\n",
      "[68]\tvalidation_0-rmse:105.376\tvalidation_1-rmse:566.204\n",
      "[69]\tvalidation_0-rmse:103.058\tvalidation_1-rmse:564.657\n",
      "[70]\tvalidation_0-rmse:100.88\tvalidation_1-rmse:562.841\n",
      "[71]\tvalidation_0-rmse:98.7534\tvalidation_1-rmse:561.237\n",
      "[72]\tvalidation_0-rmse:96.952\tvalidation_1-rmse:559.54\n",
      "[73]\tvalidation_0-rmse:95.1689\tvalidation_1-rmse:558.287\n",
      "[74]\tvalidation_0-rmse:93.6653\tvalidation_1-rmse:557.033\n",
      "[75]\tvalidation_0-rmse:92.1396\tvalidation_1-rmse:555.795\n",
      "[76]\tvalidation_0-rmse:90.8148\tvalidation_1-rmse:554.817\n",
      "[77]\tvalidation_0-rmse:89.5793\tvalidation_1-rmse:553.508\n",
      "[78]\tvalidation_0-rmse:88.5113\tvalidation_1-rmse:552.246\n",
      "[79]\tvalidation_0-rmse:87.5079\tvalidation_1-rmse:551.142\n",
      "[80]\tvalidation_0-rmse:86.5715\tvalidation_1-rmse:550.208\n",
      "[81]\tvalidation_0-rmse:85.7728\tvalidation_1-rmse:549.459\n",
      "[82]\tvalidation_0-rmse:85.0375\tvalidation_1-rmse:548.698\n",
      "[83]\tvalidation_0-rmse:84.3577\tvalidation_1-rmse:547.987\n",
      "[84]\tvalidation_0-rmse:83.1763\tvalidation_1-rmse:547.221\n",
      "[85]\tvalidation_0-rmse:82.5942\tvalidation_1-rmse:546.39\n",
      "[86]\tvalidation_0-rmse:82.0923\tvalidation_1-rmse:545.601\n",
      "[87]\tvalidation_0-rmse:81.6068\tvalidation_1-rmse:545.083\n",
      "[88]\tvalidation_0-rmse:81.1605\tvalidation_1-rmse:544.494\n",
      "[89]\tvalidation_0-rmse:80.7829\tvalidation_1-rmse:543.992\n",
      "[90]\tvalidation_0-rmse:80.4386\tvalidation_1-rmse:543.632\n",
      "[91]\tvalidation_0-rmse:80.1282\tvalidation_1-rmse:543.266\n",
      "[92]\tvalidation_0-rmse:79.8459\tvalidation_1-rmse:542.871\n",
      "[93]\tvalidation_0-rmse:79.5872\tvalidation_1-rmse:542.495\n",
      "[94]\tvalidation_0-rmse:79.3313\tvalidation_1-rmse:542.325\n",
      "[95]\tvalidation_0-rmse:78.5554\tvalidation_1-rmse:541.923\n",
      "[96]\tvalidation_0-rmse:78.3489\tvalidation_1-rmse:541.551\n",
      "[97]\tvalidation_0-rmse:78.1599\tvalidation_1-rmse:541.268\n",
      "[98]\tvalidation_0-rmse:78.0001\tvalidation_1-rmse:540.924\n",
      "[99]\tvalidation_0-rmse:77.8415\tvalidation_1-rmse:540.61\n"
     ]
    },
    {
     "data": {
      "text/plain": [
       "XGBRegressor(base_score=0.5, booster='gbtree', colsample_bylevel=1,\n",
       "       colsample_bytree=1, gamma=0, importance_type='gain',\n",
       "       learning_rate=0.1, max_delta_step=0, max_depth=3,\n",
       "       min_child_weight=1, missing=None, n_estimators=100, n_jobs=1,\n",
       "       nthread=None, objective='reg:linear', random_state=0, reg_alpha=0,\n",
       "       reg_lambda=1, scale_pos_weight=1, seed=None, silent=True,\n",
       "       subsample=1)"
      ]
     },
     "execution_count": 35,
     "metadata": {},
     "output_type": "execute_result"
    }
   ],
   "source": [
    "xgb_reg.fit(X_train, y_train, eval_set= [(X_train, y_train), (X_val, y_val)])"
   ]
  },
  {
   "cell_type": "code",
   "execution_count": 38,
   "metadata": {},
   "outputs": [
    {
     "data": {
      "text/plain": [
       "{'validation_0': {'rmse': [10638.96875,\n",
       "   9707.365234,\n",
       "   8858.47168,\n",
       "   8084.478516,\n",
       "   7381.128906,\n",
       "   6739.179199,\n",
       "   6155.45459,\n",
       "   5627.966797,\n",
       "   5142.61084,\n",
       "   4703.067871,\n",
       "   4302.428711,\n",
       "   3936.136475,\n",
       "   3600.943604,\n",
       "   3298.737061,\n",
       "   3023.478516,\n",
       "   2770.356689,\n",
       "   2541.385254,\n",
       "   2333.383789,\n",
       "   2140.990723,\n",
       "   1966.592651,\n",
       "   1806.171875,\n",
       "   1661.524658,\n",
       "   1527.986084,\n",
       "   1407.412476,\n",
       "   1295.062622,\n",
       "   1193.133545,\n",
       "   1100.236328,\n",
       "   1016.109558,\n",
       "   939.322815,\n",
       "   867.559814,\n",
       "   801.507446,\n",
       "   741.705139,\n",
       "   686.552612,\n",
       "   635.569763,\n",
       "   589.619934,\n",
       "   547.132935,\n",
       "   508.314697,\n",
       "   473.047058,\n",
       "   440.279022,\n",
       "   410.141815,\n",
       "   382.678497,\n",
       "   357.278564,\n",
       "   334.154968,\n",
       "   313.346741,\n",
       "   294.125427,\n",
       "   275.919556,\n",
       "   259.581818,\n",
       "   244.7715,\n",
       "   231.351303,\n",
       "   219.306152,\n",
       "   207.751602,\n",
       "   197.354095,\n",
       "   188.143707,\n",
       "   179.374222,\n",
       "   171.631577,\n",
       "   163.79155,\n",
       "   157.075272,\n",
       "   150.444077,\n",
       "   144.562759,\n",
       "   139.015808,\n",
       "   134.078201,\n",
       "   129.193481,\n",
       "   124.93689,\n",
       "   121.112595,\n",
       "   117.210701,\n",
       "   113.870918,\n",
       "   110.912437,\n",
       "   108.091568,\n",
       "   105.375763,\n",
       "   103.057571,\n",
       "   100.879669,\n",
       "   98.753418,\n",
       "   96.952034,\n",
       "   95.168945,\n",
       "   93.665337,\n",
       "   92.139557,\n",
       "   90.814796,\n",
       "   89.579277,\n",
       "   88.511292,\n",
       "   87.50795,\n",
       "   86.571548,\n",
       "   85.772835,\n",
       "   85.037506,\n",
       "   84.357712,\n",
       "   83.176285,\n",
       "   82.594154,\n",
       "   82.092331,\n",
       "   81.606834,\n",
       "   81.160507,\n",
       "   80.78286,\n",
       "   80.438644,\n",
       "   80.128212,\n",
       "   79.845886,\n",
       "   79.587173,\n",
       "   79.331299,\n",
       "   78.55545,\n",
       "   78.348862,\n",
       "   78.159897,\n",
       "   78.000122,\n",
       "   77.841507]},\n",
       " 'validation_1': {'rmse': [13281.483398,\n",
       "   12083.000977,\n",
       "   11125.943359,\n",
       "   10161.253906,\n",
       "   9320.044922,\n",
       "   8507.958008,\n",
       "   7765.171875,\n",
       "   7129.905273,\n",
       "   6527.357422,\n",
       "   5990.62793,\n",
       "   5513.282715,\n",
       "   5039.542969,\n",
       "   4623.132324,\n",
       "   4230.368652,\n",
       "   3886.419922,\n",
       "   3579.807617,\n",
       "   3293.628174,\n",
       "   3031.463623,\n",
       "   2795.470703,\n",
       "   2579.577637,\n",
       "   2385.905518,\n",
       "   2208.833984,\n",
       "   2049.927002,\n",
       "   1903.327881,\n",
       "   1774.884644,\n",
       "   1660.188232,\n",
       "   1550.048584,\n",
       "   1453.192749,\n",
       "   1367.491211,\n",
       "   1286.049683,\n",
       "   1210.844238,\n",
       "   1144.532715,\n",
       "   1081.806519,\n",
       "   1029.256226,\n",
       "   983.199463,\n",
       "   941.834717,\n",
       "   902.81012,\n",
       "   867.53186,\n",
       "   834.46875,\n",
       "   803.761658,\n",
       "   778.82489,\n",
       "   753.431396,\n",
       "   734.869812,\n",
       "   717.808777,\n",
       "   700.854126,\n",
       "   686.572205,\n",
       "   675.402161,\n",
       "   664.495239,\n",
       "   656.416809,\n",
       "   647.66571,\n",
       "   639.434692,\n",
       "   632.823608,\n",
       "   627.001709,\n",
       "   621.212891,\n",
       "   615.019592,\n",
       "   609.312378,\n",
       "   604.682495,\n",
       "   599.320557,\n",
       "   595.004761,\n",
       "   591.001831,\n",
       "   587.591431,\n",
       "   584.215149,\n",
       "   581.965027,\n",
       "   579.435059,\n",
       "   576.29541,\n",
       "   573.296143,\n",
       "   570.916565,\n",
       "   568.335693,\n",
       "   566.203918,\n",
       "   564.656616,\n",
       "   562.841064,\n",
       "   561.237427,\n",
       "   559.540283,\n",
       "   558.286621,\n",
       "   557.032654,\n",
       "   555.794861,\n",
       "   554.817078,\n",
       "   553.50824,\n",
       "   552.245544,\n",
       "   551.141724,\n",
       "   550.208496,\n",
       "   549.458679,\n",
       "   548.69751,\n",
       "   547.987427,\n",
       "   547.221191,\n",
       "   546.390137,\n",
       "   545.601318,\n",
       "   545.082642,\n",
       "   544.493652,\n",
       "   543.992432,\n",
       "   543.631897,\n",
       "   543.266296,\n",
       "   542.870728,\n",
       "   542.494873,\n",
       "   542.324707,\n",
       "   541.922913,\n",
       "   541.550598,\n",
       "   541.268372,\n",
       "   540.9245,\n",
       "   540.609741]}}"
      ]
     },
     "execution_count": 38,
     "metadata": {},
     "output_type": "execute_result"
    }
   ],
   "source": [
    "result = xgb_reg.evals_result()\n",
    "result"
   ]
  },
  {
   "cell_type": "code",
   "execution_count": 39,
   "metadata": {},
   "outputs": [
    {
     "data": {
      "text/plain": [
       "100"
      ]
     },
     "execution_count": 39,
     "metadata": {},
     "output_type": "execute_result"
    }
   ],
   "source": [
    "iteration = len(result['validation_0']['rmse'])\n",
    "iteration"
   ]
  },
  {
   "cell_type": "code",
   "execution_count": 40,
   "metadata": {},
   "outputs": [
    {
     "data": {
      "text/plain": [
       "<matplotlib.legend.Legend at 0x7f52a8a96dd8>"
      ]
     },
     "execution_count": 40,
     "metadata": {},
     "output_type": "execute_result"
    },
    {
     "data": {
      "image/png": "[encoded data removed]",
      "text/plain": [
       "<Figure size 432x288 with 1 Axes>"
      ]
     },
     "metadata": {},
     "output_type": "display_data"
    }
   ],
   "source": [
    "plt.plot(range(1, iteration+1) , result['validation_0']['rmse'], label= 'training error(rmse)')\n",
    "plt.plot(range(1, iteration +1) , result['validation_1']['rmse'],c= 'green',marker='+',label= 'validation error(rmse)')\n",
    "plt.grid(True)\n",
    "plt.xlabel('iteration')\n",
    "plt.ylabel('rmse')\n",
    "plt.title('plot of training and validation error vs iterations')\n",
    "plt.legend()"
   ]
  },
  {
   "cell_type": "code",
   "execution_count": 48,
   "metadata": {},
   "outputs": [],
   "source": [
    "y_xgb_pred = xgb_reg.predict(X_train)"
   ]
  },
  {
   "cell_type": "code",
   "execution_count": 49,
   "metadata": {},
   "outputs": [
    {
     "data": {
      "text/plain": [
       "<matplotlib.legend.Legend at 0x7f52a88febe0>"
      ]
     },
     "execution_count": 49,
     "metadata": {},
     "output_type": "execute_result"
    },
    {
     "data": {
      "image/png": "[encoded data removed]",
      "text/plain": [
       "<Figure size 432x288 with 1 Axes>"
      ]
     },
     "metadata": {},
     "output_type": "display_data"
    }
   ],
   "source": [
    "plt.scatter(X_train, y_train, label = 'Training data')\n",
    "plt.scatter(X_train, y_xgb_pred, c='red', marker='+', label = 'fitted')\n",
    "plt.grid(True)\n",
    "plt.legend()"
   ]
  },
  {
   "cell_type": "code",
   "execution_count": 50,
   "metadata": {},
   "outputs": [],
   "source": [
    "residual = y_xgb_pred - y_train"
   ]
  },
  {
   "cell_type": "code",
   "execution_count": 51,
   "metadata": {},
   "outputs": [
    {
     "data": {
      "text/plain": [
       "(array([ 3.,  4.,  8., 15., 93., 18., 12.,  3.,  2.,  2.]),\n",
       " array([-259.21131182, -203.55463454, -147.89795726,  -92.24127998,\n",
       "         -36.58460271,   19.07207457,   74.72875185,  130.38542913,\n",
       "         186.04210641,  241.69878369,  297.35546097]),\n",
       " <a list of 10 Patch objects>)"
      ]
     },
     "execution_count": 51,
     "metadata": {},
     "output_type": "execute_result"
    },
    {
     "data": {
      "image/png": "[encoded data removed]",
      "text/plain": [
       "<Figure size 432x288 with 1 Axes>"
      ]
     },
     "metadata": {},
     "output_type": "display_data"
    }
   ],
   "source": [
    "plt.hist(residual)"
   ]
  },
  {
   "cell_type": "code",
   "execution_count": 53,
   "metadata": {},
   "outputs": [
    {
     "data": {
      "image/png": "[encoded data removed]",
      "text/plain": [
       "<Figure size 432x288 with 1 Axes>"
      ]
     },
     "metadata": {},
     "output_type": "display_data"
    }
   ],
   "source": [
    "plt.boxplot([y_noisy, y_xgb_pred], labels=['train', 'predicted'])\n",
    "plt.grid(True)\n"
   ]
  },
  {
   "cell_type": "code",
   "execution_count": null,
   "metadata": {},
   "outputs": [],
   "source": []
  },
  {
   "cell_type": "code",
   "execution_count": null,
   "metadata": {},
   "outputs": [],
   "source": []
  }
 ],
 "metadata": {
  "kernelspec": {
   "display_name": "conda_python3",
   "language": "python",
   "name": "conda_python3"
  },
  "language_info": {
   "codemirror_mode": {
    "name": "ipython",
    "version": 3
   },
   "file_extension": ".py",
   "mimetype": "text/x-python",
   "name": "python",
   "nbconvert_exporter": "python",
   "pygments_lexer": "ipython3",
   "version": "3.6.5"
  }
 },
 "nbformat": 4,
 "nbformat_minor": 2
}
