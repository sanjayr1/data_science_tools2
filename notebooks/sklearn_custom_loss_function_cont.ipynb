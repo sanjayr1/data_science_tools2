{
 "cells": [
  {
   "cell_type": "markdown",
   "metadata": {
    "slideshow": {
     "slide_type": "slide"
    }
   },
   "source": [
    "### Bog of word model for document:\n",
    "\n",
    "In BOG  we treat document as collection of word without any order. \n",
    "\n",
    "- **Bernoulli document model:** message is represented by a binary feature vector of absence or presence of word.\n",
    "- **Multinomial document model**: message is represented by an integer feature vector of word frequency.\n",
    "\n",
    "There are better model for sentence or document representation **where words order matters**. There are model which takes into account the word order like [N-gram](https://en.wikipedia.org/wiki/N-gram) etc.\n",
    "Infact Deep learning has enabled us to learn better embedding of words using context of words(co occurance).\n",
    "[**optional** see [GloVe: Global Vectors for Word Representation](https://nlp.stanford.edu/projects/glove/)]"
   ]
  },
  {
   "cell_type": "markdown",
   "metadata": {
    "slideshow": {
     "slide_type": "subslide"
    }
   },
   "source": [
    "# Count vectorizer"
   ]
  },
  {
   "cell_type": "code",
   "execution_count": 40,
   "metadata": {
    "slideshow": {
     "slide_type": "subslide"
    }
   },
   "outputs": [],
   "source": [
    "sample_corpus = ['Introduction to count vectorizer for  sentences', 'It count number of word as many times word occurs']"
   ]
  },
  {
   "cell_type": "code",
   "execution_count": 41,
   "metadata": {
    "slideshow": {
     "slide_type": "fragment"
    }
   },
   "outputs": [
    {
     "data": {
      "text/html": [
       "<div>\n",
       "<style scoped>\n",
       "    .dataframe tbody tr th:only-of-type {\n",
       "        vertical-align: middle;\n",
       "    }\n",
       "\n",
       "    .dataframe tbody tr th {\n",
       "        vertical-align: top;\n",
       "    }\n",
       "\n",
       "    .dataframe thead th {\n",
       "        text-align: right;\n",
       "    }\n",
       "</style>\n",
       "<table border=\"1\" class=\"dataframe\">\n",
       "  <thead>\n",
       "    <tr style=\"text-align: right;\">\n",
       "      <th></th>\n",
       "      <th>as</th>\n",
       "      <th>count</th>\n",
       "      <th>for</th>\n",
       "      <th>introduction</th>\n",
       "      <th>it</th>\n",
       "      <th>many</th>\n",
       "      <th>number</th>\n",
       "      <th>occurs</th>\n",
       "      <th>of</th>\n",
       "      <th>sentences</th>\n",
       "      <th>times</th>\n",
       "      <th>to</th>\n",
       "      <th>vectorizer</th>\n",
       "      <th>word</th>\n",
       "    </tr>\n",
       "  </thead>\n",
       "  <tbody>\n",
       "    <tr>\n",
       "      <th>0</th>\n",
       "      <td>0</td>\n",
       "      <td>1</td>\n",
       "      <td>1</td>\n",
       "      <td>1</td>\n",
       "      <td>0</td>\n",
       "      <td>0</td>\n",
       "      <td>0</td>\n",
       "      <td>0</td>\n",
       "      <td>0</td>\n",
       "      <td>1</td>\n",
       "      <td>0</td>\n",
       "      <td>1</td>\n",
       "      <td>1</td>\n",
       "      <td>0</td>\n",
       "    </tr>\n",
       "    <tr>\n",
       "      <th>1</th>\n",
       "      <td>1</td>\n",
       "      <td>1</td>\n",
       "      <td>0</td>\n",
       "      <td>0</td>\n",
       "      <td>1</td>\n",
       "      <td>1</td>\n",
       "      <td>1</td>\n",
       "      <td>1</td>\n",
       "      <td>1</td>\n",
       "      <td>0</td>\n",
       "      <td>1</td>\n",
       "      <td>0</td>\n",
       "      <td>0</td>\n",
       "      <td>2</td>\n",
       "    </tr>\n",
       "  </tbody>\n",
       "</table>\n",
       "</div>"
      ],
      "text/plain": [
       "   as  count  for  introduction  it  many  number  occurs  of  sentences  \\\n",
       "0   0      1    1             1   0     0       0       0   0          1   \n",
       "1   1      1    0             0   1     1       1       1   1          0   \n",
       "\n",
       "   times  to  vectorizer  word  \n",
       "0      0   1           1     0  \n",
       "1      1   0           0     2  "
      ]
     },
     "execution_count": 41,
     "metadata": {},
     "output_type": "execute_result"
    }
   ],
   "source": [
    "from sklearn.feature_extraction.text import CountVectorizer\n",
    "import pandas as pd\n",
    "\n",
    "en = CountVectorizer()\n",
    "\n",
    "text_feat = en.fit_transform(sample_corpus)\n",
    "text_feat\n",
    "pd.DataFrame(text_feat.toarray(), columns=en.get_feature_names())"
   ]
  },
  {
   "cell_type": "markdown",
   "metadata": {
    "slideshow": {
     "slide_type": "slide"
    }
   },
   "source": [
    "# N-gram\n",
    "\n",
    "N-gram is simply a sequence of word.\n",
    "\n",
    "- Drinking coffee. (2 gram)\n",
    "- Have you seen the sky?\n",
    "- Hard drive encryption.(3 gram) \n",
    "- After drinking coffee, he said thank you.(7 gram)\n",
    "- Drinking water is good quality."
   ]
  },
  {
   "cell_type": "markdown",
   "metadata": {
    "slideshow": {
     "slide_type": "fragment"
    }
   },
   "source": [
    "Which of these n-gram occur frequently?"
   ]
  },
  {
   "cell_type": "markdown",
   "metadata": {
    "slideshow": {
     "slide_type": "subslide"
    }
   },
   "source": [
    "# How can we utilize this idea\n",
    "- Spell correction\n",
    "- Next word prediction/suggestion"
   ]
  },
  {
   "cell_type": "markdown",
   "metadata": {
    "slideshow": {
     "slide_type": "subslide"
    }
   },
   "source": [
    "# n gram model\n",
    "It is based on assigning probabilities to a word based on its occurrence in a sequence of words.\n",
    "\n",
    "P(coffee|Drinking) = (No of times \"Drinking coffee\" )/(No of times Drinking occurs )\n",
    "\n",
    "In above tiny corpus\n",
    "\n",
    "P(coffee|Drinking)= 2/3\n",
    "\n",
    "P(water|Drinking)= 1/3"
   ]
  },
  {
   "cell_type": "markdown",
   "metadata": {
    "slideshow": {
     "slide_type": "subslide"
    }
   },
   "source": [
    "We can use ngram  in CountVectorizer or any model which relies in counting word or words together"
   ]
  },
  {
   "cell_type": "code",
   "execution_count": 42,
   "metadata": {
    "slideshow": {
     "slide_type": "fragment"
    }
   },
   "outputs": [
    {
     "data": {
      "text/html": [
       "<div>\n",
       "<style scoped>\n",
       "    .dataframe tbody tr th:only-of-type {\n",
       "        vertical-align: middle;\n",
       "    }\n",
       "\n",
       "    .dataframe tbody tr th {\n",
       "        vertical-align: top;\n",
       "    }\n",
       "\n",
       "    .dataframe thead th {\n",
       "        text-align: right;\n",
       "    }\n",
       "</style>\n",
       "<table border=\"1\" class=\"dataframe\">\n",
       "  <thead>\n",
       "    <tr style=\"text-align: right;\">\n",
       "      <th></th>\n",
       "      <th>as many</th>\n",
       "      <th>count number</th>\n",
       "      <th>count vectorizer</th>\n",
       "      <th>for sentences</th>\n",
       "      <th>introduction to</th>\n",
       "      <th>it count</th>\n",
       "      <th>many times</th>\n",
       "      <th>number of</th>\n",
       "      <th>of word</th>\n",
       "      <th>times word</th>\n",
       "      <th>to count</th>\n",
       "      <th>vectorizer for</th>\n",
       "      <th>word as</th>\n",
       "      <th>word occurs</th>\n",
       "    </tr>\n",
       "  </thead>\n",
       "  <tbody>\n",
       "    <tr>\n",
       "      <th>0</th>\n",
       "      <td>0</td>\n",
       "      <td>0</td>\n",
       "      <td>1</td>\n",
       "      <td>1</td>\n",
       "      <td>1</td>\n",
       "      <td>0</td>\n",
       "      <td>0</td>\n",
       "      <td>0</td>\n",
       "      <td>0</td>\n",
       "      <td>0</td>\n",
       "      <td>1</td>\n",
       "      <td>1</td>\n",
       "      <td>0</td>\n",
       "      <td>0</td>\n",
       "    </tr>\n",
       "    <tr>\n",
       "      <th>1</th>\n",
       "      <td>1</td>\n",
       "      <td>1</td>\n",
       "      <td>0</td>\n",
       "      <td>0</td>\n",
       "      <td>0</td>\n",
       "      <td>1</td>\n",
       "      <td>1</td>\n",
       "      <td>1</td>\n",
       "      <td>1</td>\n",
       "      <td>1</td>\n",
       "      <td>0</td>\n",
       "      <td>0</td>\n",
       "      <td>1</td>\n",
       "      <td>1</td>\n",
       "    </tr>\n",
       "  </tbody>\n",
       "</table>\n",
       "</div>"
      ],
      "text/plain": [
       "   as many  count number  count vectorizer  for sentences  introduction to  \\\n",
       "0        0             0                 1              1                1   \n",
       "1        1             1                 0              0                0   \n",
       "\n",
       "   it count  many times  number of  of word  times word  to count  \\\n",
       "0         0           0          0        0           0         1   \n",
       "1         1           1          1        1           1         0   \n",
       "\n",
       "   vectorizer for  word as  word occurs  \n",
       "0               1        0            0  \n",
       "1               0        1            1  "
      ]
     },
     "execution_count": 42,
     "metadata": {},
     "output_type": "execute_result"
    }
   ],
   "source": [
    "en = CountVectorizer(ngram_range=(2,2))\n",
    "\n",
    "text_feat = en.fit_transform(sample_corpus)\n",
    "text_feat\n",
    "pd.DataFrame(text_feat.toarray(), columns=en.get_feature_names())\n"
   ]
  },
  {
   "cell_type": "markdown",
   "metadata": {
    "slideshow": {
     "slide_type": "slide"
    }
   },
   "source": [
    "\n",
    "# Back to custom loss function"
   ]
  },
  {
   "cell_type": "markdown",
   "metadata": {
    "slideshow": {
     "slide_type": "subslide"
    }
   },
   "source": [
    "- to implement new idea of learning objective\n",
    "- to handle class imbalance\n",
    "- to apply domain knowledge in building model"
   ]
  }
 ],
 "metadata": {
  "celltoolbar": "Slideshow",
  "kernelspec": {
   "display_name": "Python 3",
   "language": "python",
   "name": "python3"
  },
  "language_info": {
   "codemirror_mode": {
    "name": "ipython",
    "version": 3
   },
   "file_extension": ".py",
   "mimetype": "text/x-python",
   "name": "python",
   "nbconvert_exporter": "python",
   "pygments_lexer": "ipython3",
   "version": "3.5.2"
  }
 },
 "nbformat": 4,
 "nbformat_minor": 2
}
