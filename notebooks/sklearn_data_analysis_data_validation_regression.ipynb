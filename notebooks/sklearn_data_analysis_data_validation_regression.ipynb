{
 "cells": [
  {
   "cell_type": "markdown",
   "metadata": {
    "slideshow": {
     "slide_type": "slide"
    }
   },
   "source": [
    "# There are two class of problems in machine learning \n",
    "  \n",
    "        "
   ]
  },
  {
   "cell_type": "markdown",
   "metadata": {
    "slideshow": {
     "slide_type": "subslide"
    }
   },
   "source": [
    "## Unsupervised.\n",
    "\n",
    "There is no label in data set. One only has observation $\\{x_i\\}_i^N$.\n",
    "It is among the most difficult and ill defined problems in machine learning. \n",
    "Once can think of this class of problems as learning without a teacher."
   ]
  },
  {
   "cell_type": "markdown",
   "metadata": {
    "slideshow": {
     "slide_type": "fragment"
    }
   },
   "source": [
    "- Clustering. Finding the cluster in a dataset.\n",
    "    + Clustering the facebook or twitter users based on some similarity between users.\n",
    "- Anomaly detection    \n",
    "    + Detection of rare item , events or outlier. Bank fraud, medical anomaly etc.\n"
   ]
  },
  {
   "cell_type": "markdown",
   "metadata": {
    "slideshow": {
     "slide_type": "slide"
    }
   },
   "source": [
    "# Supervised\n"
   ]
  },
  {
   "cell_type": "markdown",
   "metadata": {
    "slideshow": {
     "slide_type": "subslide"
    }
   },
   "source": [
    "## Classification: \n",
    "\n",
    "Given a data set $\\{x_i, y_i\\}_i^N$, there is a well defined prediction task encoded as a **discrete label** $y_i$. \n",
    "    "
   ]
  },
  {
   "cell_type": "markdown",
   "metadata": {
    "slideshow": {
     "slide_type": "fragment"
    }
   },
   "source": [
    "Can you suggest some task into this category?"
   ]
  },
  {
   "cell_type": "markdown",
   "metadata": {
    "slideshow": {
     "slide_type": "fragment"
    }
   },
   "source": [
    "- $x_i$ can an image and $y_i$ can be image label like cat, dog, automobile etc.\n",
    "- $x_i$ can be a tweet/item review and $y_i$ can be the sentiment of the text."
   ]
  },
  {
   "cell_type": "markdown",
   "metadata": {
    "slideshow": {
     "slide_type": "subslide"
    }
   },
   "source": [
    "## Regression\n",
    "Given a data set $\\{x_i, y_i\\}_i^N$, if $y_i$ is a **continuous** variable/quantity then it is a regression problem. "
   ]
  },
  {
   "cell_type": "markdown",
   "metadata": {
    "slideshow": {
     "slide_type": "fragment"
    }
   },
   "source": [
    "examples?"
   ]
  },
  {
   "cell_type": "markdown",
   "metadata": {
    "slideshow": {
     "slide_type": "fragment"
    }
   },
   "source": [
    "- Predicting house price using linear or polynomial regression\n",
    "- Predicting customer spending etc."
   ]
  },
  {
   "cell_type": "markdown",
   "metadata": {
    "slideshow": {
     "slide_type": "slide"
    }
   },
   "source": [
    "# We already discussed how to do validation of classification model using three pillars accuracy, precision and recall and F1 -score. We'll go over ROC curve and more detail analysis in machine learning."
   ]
  },
  {
   "cell_type": "markdown",
   "metadata": {
    "slideshow": {
     "slide_type": "slide"
    }
   },
   "source": [
    "In class quiz time  about classification?"
   ]
  },
  {
   "cell_type": "markdown",
   "metadata": {
    "slideshow": {
     "slide_type": "subslide"
    }
   },
   "source": [
    "# How to validate regression model"
   ]
  },
  {
   "cell_type": "markdown",
   "metadata": {
    "slideshow": {
     "slide_type": "fragment"
    }
   },
   "source": [
    "Any suggestions?"
   ]
  },
  {
   "cell_type": "markdown",
   "metadata": {
    "slideshow": {
     "slide_type": "subslide"
    }
   },
   "source": [
    "Given dataset $\\mathcal{D_{train}} = \\{x_i \\in \\mathbb{R}^d ,y_i \\in \\mathbb{R} \\}$, let say you build a model $\\hat{f}$ i.e $\\hat{f}(x_i) =\\hat{y_i}$"
   ]
  },
  {
   "cell_type": "markdown",
   "metadata": {
    "slideshow": {
     "slide_type": "subslide"
    }
   },
   "source": [
    "## Comparing your model against  reality\n",
    "After you have build your model.. You want to evaluate it performance on a validation dataset $\\mathcal{D_{val} = \\{x_{i}^{val}, y_i^{val} \\}}$"
   ]
  },
  {
   "cell_type": "markdown",
   "metadata": {
    "slideshow": {
     "slide_type": "fragment"
    }
   },
   "source": [
    "Can you suggest a way to evaluate/measure the performance of this model"
   ]
  },
  {
   "cell_type": "markdown",
   "metadata": {
    "slideshow": {
     "slide_type": "subslide"
    }
   },
   "source": [
    "# MAE(mean absolute error)\n",
    "\n",
    "$$\\frac{1}{N}(|y^{val}_i -\\hat{f}(x_i^{val})|)$$\n",
    "\n"
   ]
  },
  {
   "cell_type": "markdown",
   "metadata": {
    "slideshow": {
     "slide_type": "fragment"
    }
   },
   "source": [
    "Can we plot it for simple linear regression model?"
   ]
  },
  {
   "cell_type": "markdown",
   "metadata": {
    "slideshow": {
     "slide_type": "subslide"
    }
   },
   "source": [
    "# MSE (mean square error)\n",
    "\n",
    "$$\\frac{1}{N}(y^{val}_i -\\hat{f}(x_i^{val}))^2$$"
   ]
  },
  {
   "cell_type": "markdown",
   "metadata": {
    "slideshow": {
     "slide_type": "fragment"
    }
   },
   "source": [
    "Can we plot and compare with MAE?"
   ]
  },
  {
   "cell_type": "markdown",
   "metadata": {
    "slideshow": {
     "slide_type": "subslide"
    }
   },
   "source": [
    "## RMSE(Root mean square error)\n",
    "\n",
    "$$\\sqrt{\\frac{1}{N}(y^{val}_i -\\hat{f}(x_i^{val}))^2}$$\n",
    "\n",
    "Easy interpretation due to the same scale."
   ]
  },
  {
   "cell_type": "markdown",
   "metadata": {
    "slideshow": {
     "slide_type": "subslide"
    }
   },
   "source": [
    "Do you see some issue with MAE, MSE, RMSE ?"
   ]
  },
  {
   "cell_type": "markdown",
   "metadata": {
    "slideshow": {
     "slide_type": "subslide"
    }
   },
   "source": [
    "## Mean absolute percentage error(MAPE)\n",
    "\n",
    "$$\\frac{100}{N}\\left|\\frac{y^{val}_i - \\hat{f}(x_i)}{y_i^{val}}\\right|\\%$$\n",
    "\n",
    "It is robust to ouliers"
   ]
  },
  {
   "cell_type": "markdown",
   "metadata": {
    "slideshow": {
     "slide_type": "fragment"
    }
   },
   "source": [
    "Can you figure out an issue with this?"
   ]
  },
  {
   "cell_type": "markdown",
   "metadata": {
    "slideshow": {
     "slide_type": "subslide"
    }
   },
   "source": [
    "## Mean percentage error\n",
    "\n",
    "$$\\frac{100}{N}\\frac{(y^{val}_i - \\hat{f}(x_i))}{y_i^{val}}\\%$$\n",
    "\n",
    "It can help in detecting systematic bias."
   ]
  },
  {
   "cell_type": "markdown",
   "metadata": {
    "slideshow": {
     "slide_type": "subslide"
    }
   },
   "source": [
    "## R2 score\n",
    "- Also called coefficients of determination\n",
    "- Tell how good regression fit is"
   ]
  },
  {
   "cell_type": "markdown",
   "metadata": {
    "slideshow": {
     "slide_type": "fragment"
    }
   },
   "source": [
    "Define\n",
    " $\\mu = \\frac{\\sum_i^{N^{val}} y_i^{val}}{N^{val}}$\n",
    " \n",
    " Total sum of square $SS_{total} = \\sum_i (y_i^{val} -\\mu)^2$\n",
    " \n",
    " Residual sum of square $SS_{res} = \\sum_{i} (y_i^{val} - \\hat{f}(x^{val}_i))^2$\n",
    " \n",
    " Then $R^2 = 1 - \\frac{SS_{total}}{SS_{res}}$"
   ]
  },
  {
   "cell_type": "markdown",
   "metadata": {
    "slideshow": {
     "slide_type": "subslide"
    }
   },
   "source": [
    "# Adjusted $R^2$\n",
    "\n",
    "$R^2$ always increase as we add more variable to the regression fit even if they don't add to explanatory power of the fit. With multiple regression use adjusted $R^2$. It increases if addition of new variable do add to explanatory power of regression. \n",
    "\n",
    "$$R^2_{adj} = 1-\\left[\\frac{(1- R^2)(n-1)}{n-k}\\right]$$\n",
    "\n",
    "$n$ = number of data points in you sample.\n",
    "\n",
    "$k$ =  number of variables in your model, excluding the constant."
   ]
  },
  {
   "cell_type": "markdown",
   "metadata": {
    "slideshow": {
     "slide_type": "slide"
    }
   },
   "source": [
    "One can easily code these metric but check **sklearn.metrics** for different metric.\n",
    "Depending on your problem (classification/ regression) choose the right metric. "
   ]
  },
  {
   "cell_type": "markdown",
   "metadata": {
    "slideshow": {
     "slide_type": "slide"
    }
   },
   "source": [
    "# model selection(Validation/cross validation) and evaluation(testing)\n",
    "\n",
    "## model selection\n",
    " is selecting the best model. In this step we use validation data to tune and select the best model.\n",
    "## model evaluation\n",
    "\n",
    "is measure true generalization performance of the model. It gives a better idea about how the model is going to perform in the production.\n",
    "\n",
    "Let's work with some sample data to go over the details\n",
    "\n",
    "<font color=\"red\">Never look into the test data while building or tunning the model. </font>"
   ]
  },
  {
   "cell_type": "code",
   "execution_count": null,
   "metadata": {},
   "outputs": [],
   "source": []
  }
 ],
 "metadata": {
  "celltoolbar": "Slideshow",
  "kernelspec": {
   "display_name": "Python 3",
   "language": "python",
   "name": "python3"
  },
  "language_info": {
   "codemirror_mode": {
    "name": "ipython",
    "version": 3
   },
   "file_extension": ".py",
   "mimetype": "text/x-python",
   "name": "python",
   "nbconvert_exporter": "python",
   "pygments_lexer": "ipython3",
   "version": "3.5.2"
  }
 },
 "nbformat": 4,
 "nbformat_minor": 2
}
