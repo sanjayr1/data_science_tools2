{
 "cells": [
  {
   "cell_type": "code",
   "execution_count": 59,
   "metadata": {},
   "outputs": [],
   "source": [
    "import boto3\n",
    "import sagemaker\n",
    "from sagemaker import get_execution_role\n",
    "from boto3.s3.transfer import TransferConfig"
   ]
  },
  {
   "cell_type": "markdown",
   "metadata": {},
   "source": [
    "# Data transfer to s3"
   ]
  },
  {
   "cell_type": "code",
   "execution_count": 63,
   "metadata": {},
   "outputs": [
    {
     "data": {
      "text/plain": [
       "('s3://psn-sagemaker/bsd/ctrain.csv',\n",
       " 's3://psn-sagemaker/bsd/cval.csv',\n",
       " 's3://psn-sagemaker/bsd/ctest.csv',\n",
       " 's3://psn-sagemaker/bsd/model')"
      ]
     },
     "execution_count": 63,
     "metadata": {},
     "output_type": "execute_result"
    }
   ],
   "source": [
    "bucket_name= 'psn-sagemaker'\n",
    "train_key= 'bsd/ctrain.csv'\n",
    "val_key = 'bsd/cval.csv'\n",
    "test_key = 'bsd/ctest.csv'\n",
    "model_loc =  's3://' + bucket_name +'/bsd/model'\n",
    "train_loc =  's3://' +bucket_name + '/'+ train_key\n",
    "val_loc =    's3://' +bucket_name + '/' + val_key\n",
    "test_loc = 's3://' +bucket_name +  '/' + test_key\n",
    "\n",
    "train_loc, val_loc, test_loc, model_loc"
   ]
  },
  {
   "cell_type": "code",
   "execution_count": 64,
   "metadata": {},
   "outputs": [],
   "source": [
    "config = TransferConfig(multipart_threshold=8388608, max_concurrency=10, use_threads=True)\n",
    "s3 = boto3.client('s3')\n",
    "    \n",
    "def transfer_file_to_s3(file_name, key_name, bucket_name = bucket_name, config = config, s3_client = s3):\n",
    "    s3_client.upload_file(file_name, bucket_name, key_name , Config=config)\n",
    "    \n",
    "    "
   ]
  },
  {
   "cell_type": "code",
   "execution_count": 65,
   "metadata": {},
   "outputs": [],
   "source": [
    "transfer_file_to_s3('ctrain.csv', train_key)\n",
    "transfer_file_to_s3('cval.csv', val_key)\n",
    "transfer_file_to_s3('ctest.csv', test_key)"
   ]
  },
  {
   "cell_type": "markdown",
   "metadata": {},
   "source": [
    "# Finding right docker image for machine learning alogorithms\n",
    "https://docs.aws.amazon.com/sagemaker/latest/dg/sagemaker-algo-docker-registry-paths.html"
   ]
  },
  {
   "cell_type": "code",
   "execution_count": 66,
   "metadata": {},
   "outputs": [],
   "source": [
    "docker_image_for_sg_boost = '811284229777.dkr.ecr.us-east-1.amazonaws.com/xgboost:latest'"
   ]
  },
  {
   "cell_type": "code",
   "execution_count": 67,
   "metadata": {},
   "outputs": [
    {
     "data": {
      "text/plain": [
       "'arn:aws:iam::993741996993:role/service-role/AmazonSageMaker-ExecutionRole-20190520T202818'"
      ]
     },
     "execution_count": 67,
     "metadata": {},
     "output_type": "execute_result"
    }
   ],
   "source": [
    "# sagemaker need acces to s3 bucket etc\n",
    "role = get_execution_role()\n",
    "role"
   ]
  },
  {
   "cell_type": "markdown",
   "metadata": {},
   "source": [
    "Trainig"
   ]
  },
  {
   "cell_type": "code",
   "execution_count": 68,
   "metadata": {},
   "outputs": [],
   "source": [
    "train_sess = sagemaker.Session()"
   ]
  },
  {
   "cell_type": "code",
   "execution_count": 69,
   "metadata": {},
   "outputs": [
    {
     "data": {
      "text/plain": [
       "'us-east-1'"
      ]
     },
     "execution_count": 69,
     "metadata": {},
     "output_type": "execute_result"
    }
   ],
   "source": [
    "boto3.Session().region_name"
   ]
  },
  {
   "cell_type": "code",
   "execution_count": 71,
   "metadata": {},
   "outputs": [],
   "source": [
    "estimator = sagemaker.estimator.Estimator(docker_image_for_sg_boost,\n",
    "                                          role,\n",
    "                                          1,\n",
    "                                          'ml.m4.xlarge',\n",
    "                                          output_path= model_loc,\n",
    "                                          sagemaker_session = train_sess,\n",
    "                                          base_job_name = 'ml-xgboost-bsdv1'                                  \n",
    "                                     )"
   ]
  },
  {
   "cell_type": "code",
   "execution_count": 72,
   "metadata": {},
   "outputs": [],
   "source": [
    "estimator.set_hyperparameters(max_depth=8,n_estimators=100, num_round= 100, learning_rate=.05, subsample=.8, objective=\"reg:linear\")"
   ]
  },
  {
   "cell_type": "code",
   "execution_count": 73,
   "metadata": {},
   "outputs": [
    {
     "data": {
      "text/plain": [
       "{'max_depth': 8,\n",
       " 'n_estimators': 100,\n",
       " 'num_round': 100,\n",
       " 'learning_rate': 0.05,\n",
       " 'subsample': 0.8,\n",
       " 'objective': 'reg:linear'}"
      ]
     },
     "execution_count": 73,
     "metadata": {},
     "output_type": "execute_result"
    }
   ],
   "source": [
    "estimator.hyperparameters()"
   ]
  },
  {
   "cell_type": "markdown",
   "metadata": {},
   "source": [
    "# Formatting input and val input"
   ]
  },
  {
   "cell_type": "code",
   "execution_count": 76,
   "metadata": {},
   "outputs": [],
   "source": [
    "train_input = sagemaker.session.s3_input(s3_data=train_loc, content_type=\"csv\")\n",
    "val_input = sagemaker.session.s3_input(s3_data=val_loc, content_type=\"csv\")"
   ]
  },
  {
   "cell_type": "code",
   "execution_count": 77,
   "metadata": {},
   "outputs": [
    {
     "data": {
      "text/plain": [
       "{'DataSource': {'S3DataSource': {'S3DataDistributionType': 'FullyReplicated',\n",
       "   'S3DataType': 'S3Prefix',\n",
       "   'S3Uri': 's3://psn-sagemaker/bsd/ctrain.csv'}},\n",
       " 'ContentType': 'csv'}"
      ]
     },
     "execution_count": 77,
     "metadata": {},
     "output_type": "execute_result"
    }
   ],
   "source": [
    "train_input.config"
   ]
  },
  {
   "cell_type": "markdown",
   "metadata": {},
   "source": [
    "https://docs.aws.amazon.com/sagemaker/latest/dg/API_S3DataSource.html"
   ]
  },
  {
   "cell_type": "markdown",
   "metadata": {},
   "source": [
    "# Fit the model"
   ]
  },
  {
   "cell_type": "code",
   "execution_count": 78,
   "metadata": {},
   "outputs": [
    {
     "name": "stdout",
     "output_type": "stream",
     "text": [
      "2019-06-04 00:13:12 Starting - Starting the training job............\n",
      "2019-06-04 00:15:03 Starting - Launching requested ML instances......\n",
      "2019-06-04 00:16:12 Starting - Preparing the instances for training......\n",
      "2019-06-04 00:17:13 Downloading - Downloading input data...\n",
      "2019-06-04 00:17:43 Training - Downloading the training image.\n",
      "\u001b[31mArguments: train\u001b[0m\n",
      "\u001b[31m[2019-06-04:00:17:47:INFO] Running standalone xgboost training.\u001b[0m\n",
      "\u001b[31m[2019-06-04:00:17:47:INFO] File size need to be processed in the node: 0.72mb. Available memory size in the node: 8426.61mb\u001b[0m\n",
      "\u001b[31m[2019-06-04:00:17:47:INFO] Determined delimiter of CSV input is ','\u001b[0m\n",
      "\u001b[31m[00:17:47] S3DistributionType set as FullyReplicated\u001b[0m\n",
      "\u001b[31m[00:17:47] 8708x15 matrix with 130620 entries loaded from /opt/ml/input/data/train?format=csv&label_column=0&delimiter=,\u001b[0m\n",
      "\u001b[31m[2019-06-04:00:17:47:INFO] Determined delimiter of CSV input is ','\u001b[0m\n",
      "\u001b[31m[00:17:47] S3DistributionType set as FullyReplicated\u001b[0m\n",
      "\u001b[31m[00:17:47] 2178x15 matrix with 32670 entries loaded from /opt/ml/input/data/validation?format=csv&label_column=0&delimiter=,\u001b[0m\n",
      "\u001b[31m[00:17:47] src/tree/updater_prune.cc:74: tree pruning end, 1 roots, 48 extra nodes, 0 pruned nodes, max_depth=7\u001b[0m\n",
      "\u001b[31m[0]#011train-rmse:3.03068#011validation-rmse:3.05601\u001b[0m\n",
      "\u001b[31m[00:17:47] src/tree/updater_prune.cc:74: tree pruning end, 1 roots, 50 extra nodes, 0 pruned nodes, max_depth=7\u001b[0m\n",
      "\u001b[31m[1]#011train-rmse:2.12532#011validation-rmse:2.14328\u001b[0m\n",
      "\u001b[31m[00:17:47] src/tree/updater_prune.cc:74: tree pruning end, 1 roots, 60 extra nodes, 0 pruned nodes, max_depth=8\u001b[0m\n",
      "\u001b[31m[2]#011train-rmse:1.49072#011validation-rmse:1.50449\u001b[0m\n",
      "\u001b[31m[00:17:47] src/tree/updater_prune.cc:74: tree pruning end, 1 roots, 62 extra nodes, 0 pruned nodes, max_depth=7\u001b[0m\n",
      "\u001b[31m[3]#011train-rmse:1.04625#011validation-rmse:1.05585\u001b[0m\n",
      "\u001b[31m[4]#011train-rmse:0.734469#011validation-rmse:0.740917\u001b[0m\n",
      "\u001b[31m[00:17:47] src/tree/updater_prune.cc:74: tree pruning end, 1 roots, 66 extra nodes, 0 pruned nodes, max_depth=8\u001b[0m\n",
      "\u001b[31m[00:17:47] src/tree/updater_prune.cc:74: tree pruning end, 1 roots, 66 extra nodes, 0 pruned nodes, max_depth=8\u001b[0m\n",
      "\u001b[31m[5]#011train-rmse:0.516156#011validation-rmse:0.520356\u001b[0m\n",
      "\u001b[31m[00:17:47] src/tree/updater_prune.cc:74: tree pruning end, 1 roots, 70 extra nodes, 0 pruned nodes, max_depth=7\u001b[0m\n",
      "\u001b[31m[6]#011train-rmse:0.363186#011validation-rmse:0.365334\u001b[0m\n",
      "\u001b[31m[00:17:47] src/tree/updater_prune.cc:74: tree pruning end, 1 roots, 88 extra nodes, 0 pruned nodes, max_depth=8\u001b[0m\n",
      "\u001b[31m[7]#011train-rmse:0.256316#011validation-rmse:0.25793\u001b[0m\n",
      "\u001b[31m[00:17:47] src/tree/updater_prune.cc:74: tree pruning end, 1 roots, 114 extra nodes, 0 pruned nodes, max_depth=8\u001b[0m\n",
      "\u001b[31m[8]#011train-rmse:0.181424#011validation-rmse:0.182497\u001b[0m\n",
      "\u001b[31m[00:17:47] src/tree/updater_prune.cc:74: tree pruning end, 1 roots, 146 extra nodes, 0 pruned nodes, max_depth=8\u001b[0m\n",
      "\u001b[31m[9]#011train-rmse:0.1293#011validation-rmse:0.130143\u001b[0m\n",
      "\u001b[31m[10]#011train-rmse:0.092902#011validation-rmse:0.094016\u001b[0m\n",
      "\u001b[31m[00:17:47] src/tree/updater_prune.cc:74: tree pruning end, 1 roots, 178 extra nodes, 0 pruned nodes, max_depth=8\u001b[0m\n",
      "\u001b[31m[00:17:47] src/tree/updater_prune.cc:74: tree pruning end, 1 roots, 230 extra nodes, 0 pruned nodes, max_depth=8\u001b[0m\n",
      "\u001b[31m[11]#011train-rmse:0.067703#011validation-rmse:0.069248\u001b[0m\n",
      "\u001b[31m[00:17:47] src/tree/updater_prune.cc:74: tree pruning end, 1 roots, 260 extra nodes, 0 pruned nodes, max_depth=8\u001b[0m\n",
      "\u001b[31m[12]#011train-rmse:0.050102#011validation-rmse:0.052086\u001b[0m\n",
      "\u001b[31m[00:17:47] src/tree/updater_prune.cc:74: tree pruning end, 1 roots, 216 extra nodes, 0 pruned nodes, max_depth=8\u001b[0m\n",
      "\u001b[31m[13]#011train-rmse:0.038515#011validation-rmse:0.04136\u001b[0m\n",
      "\u001b[31m[00:17:47] src/tree/updater_prune.cc:74: tree pruning end, 1 roots, 308 extra nodes, 0 pruned nodes, max_depth=8\u001b[0m\n",
      "\u001b[31m[14]#011train-rmse:0.030406#011validation-rmse:0.033937\u001b[0m\n",
      "\u001b[31m[00:17:47] src/tree/updater_prune.cc:74: tree pruning end, 1 roots, 264 extra nodes, 0 pruned nodes, max_depth=8\u001b[0m\n",
      "\u001b[31m[15]#011train-rmse:0.025197#011validation-rmse:0.029335\u001b[0m\n",
      "\u001b[31m[00:17:47] src/tree/updater_prune.cc:74: tree pruning end, 1 roots, 266 extra nodes, 0 pruned nodes, max_depth=8\u001b[0m\n",
      "\u001b[31m[16]#011train-rmse:0.021697#011validation-rmse:0.0265\u001b[0m\n",
      "\u001b[31m[00:17:47] src/tree/updater_prune.cc:74: tree pruning end, 1 roots, 270 extra nodes, 0 pruned nodes, max_depth=8\u001b[0m\n",
      "\u001b[31m[17]#011train-rmse:0.019399#011validation-rmse:0.024704\u001b[0m\n",
      "\u001b[31m[00:17:47] src/tree/updater_prune.cc:74: tree pruning end, 1 roots, 242 extra nodes, 0 pruned nodes, max_depth=8\u001b[0m\n",
      "\u001b[31m[18]#011train-rmse:0.017997#011validation-rmse:0.023371\u001b[0m\n",
      "\u001b[31m[00:17:47] src/tree/updater_prune.cc:74: tree pruning end, 1 roots, 244 extra nodes, 0 pruned nodes, max_depth=8\u001b[0m\n",
      "\u001b[31m[19]#011train-rmse:0.016931#011validation-rmse:0.022627\u001b[0m\n",
      "\u001b[31m[00:17:47] src/tree/updater_prune.cc:74: tree pruning end, 1 roots, 238 extra nodes, 0 pruned nodes, max_depth=8\u001b[0m\n",
      "\u001b[31m[20]#011train-rmse:0.015979#011validation-rmse:0.021895\u001b[0m\n",
      "\u001b[31m[00:17:47] src/tree/updater_prune.cc:74: tree pruning end, 1 roots, 282 extra nodes, 0 pruned nodes, max_depth=8\u001b[0m\n",
      "\u001b[31m[21]#011train-rmse:0.015081#011validation-rmse:0.021232\u001b[0m\n",
      "\u001b[31m[00:17:47] src/tree/updater_prune.cc:74: tree pruning end, 1 roots, 168 extra nodes, 0 pruned nodes, max_depth=8\u001b[0m\n",
      "\u001b[31m[22]#011train-rmse:0.014769#011validation-rmse:0.020847\u001b[0m\n",
      "\u001b[31m[00:17:47] src/tree/updater_prune.cc:74: tree pruning end, 1 roots, 272 extra nodes, 0 pruned nodes, max_depth=8\u001b[0m\n",
      "\u001b[31m[23]#011train-rmse:0.014056#011validation-rmse:0.020357\u001b[0m\n",
      "\u001b[31m[00:17:47] src/tree/updater_prune.cc:74: tree pruning end, 1 roots, 176 extra nodes, 0 pruned nodes, max_depth=8\u001b[0m\n",
      "\u001b[31m[24]#011train-rmse:0.013717#011validation-rmse:0.020076\u001b[0m\n",
      "\u001b[31m[00:17:47] src/tree/updater_prune.cc:74: tree pruning end, 1 roots, 150 extra nodes, 0 pruned nodes, max_depth=8\u001b[0m\n",
      "\u001b[31m[25]#011train-rmse:0.013572#011validation-rmse:0.019966\u001b[0m\n",
      "\u001b[31m[00:17:47] src/tree/updater_prune.cc:74: tree pruning end, 1 roots, 286 extra nodes, 0 pruned nodes, max_depth=8\u001b[0m\n",
      "\u001b[31m[26]#011train-rmse:0.013223#011validation-rmse:0.019757\u001b[0m\n",
      "\u001b[31m[00:17:47] src/tree/updater_prune.cc:74: tree pruning end, 1 roots, 288 extra nodes, 0 pruned nodes, max_depth=8\u001b[0m\n",
      "\u001b[31m[27]#011train-rmse:0.012753#011validation-rmse:0.019378\u001b[0m\n",
      "\u001b[31m[00:17:47] src/tree/updater_prune.cc:74: tree pruning end, 1 roots, 258 extra nodes, 0 pruned nodes, max_depth=8\u001b[0m\n",
      "\u001b[31m[28]#011train-rmse:0.012337#011validation-rmse:0.019123\u001b[0m\n",
      "\u001b[31m[00:17:47] src/tree/updater_prune.cc:74: tree pruning end, 1 roots, 112 extra nodes, 0 pruned nodes, max_depth=8\u001b[0m\n",
      "\u001b[31m[29]#011train-rmse:0.012252#011validation-rmse:0.019081\u001b[0m\n",
      "\u001b[31m[00:17:47] src/tree/updater_prune.cc:74: tree pruning end, 1 roots, 144 extra nodes, 0 pruned nodes, max_depth=8\u001b[0m\n",
      "\u001b[31m[30]#011train-rmse:0.012122#011validation-rmse:0.018964\u001b[0m\n",
      "\u001b[31m[00:17:47] src/tree/updater_prune.cc:74: tree pruning end, 1 roots, 254 extra nodes, 0 pruned nodes, max_depth=8\u001b[0m\n",
      "\u001b[31m[31]#011train-rmse:0.011825#011validation-rmse:0.018854\u001b[0m\n",
      "\u001b[31m[00:17:47] src/tree/updater_prune.cc:74: tree pruning end, 1 roots, 322 extra nodes, 0 pruned nodes, max_depth=8\u001b[0m\n",
      "\u001b[31m[32]#011train-rmse:0.011516#011validation-rmse:0.01866\u001b[0m\n",
      "\u001b[31m[00:17:47] src/tree/updater_prune.cc:74: tree pruning end, 1 roots, 226 extra nodes, 0 pruned nodes, max_depth=8\u001b[0m\n",
      "\u001b[31m[33]#011train-rmse:0.011279#011validation-rmse:0.018447\u001b[0m\n",
      "\u001b[31m[00:17:47] src/tree/updater_prune.cc:74: tree pruning end, 1 roots, 112 extra nodes, 0 pruned nodes, max_depth=8\u001b[0m\n",
      "\u001b[31m[34]#011train-rmse:0.011221#011validation-rmse:0.01841\u001b[0m\n",
      "\u001b[31m[00:17:47] src/tree/updater_prune.cc:74: tree pruning end, 1 roots, 314 extra nodes, 0 pruned nodes, max_depth=8\u001b[0m\n",
      "\u001b[31m[35]#011train-rmse:0.010962#011validation-rmse:0.018256\u001b[0m\n",
      "\u001b[31m[00:17:47] src/tree/updater_prune.cc:74: tree pruning end, 1 roots, 254 extra nodes, 0 pruned nodes, max_depth=8\u001b[0m\n",
      "\u001b[31m[36]#011train-rmse:0.010693#011validation-rmse:0.018142\u001b[0m\n",
      "\u001b[31m[00:17:47] src/tree/updater_prune.cc:74: tree pruning end, 1 roots, 230 extra nodes, 0 pruned nodes, max_depth=8\u001b[0m\n",
      "\u001b[31m[37]#011train-rmse:0.010514#011validation-rmse:0.018048\u001b[0m\n",
      "\u001b[31m[00:17:47] src/tree/updater_prune.cc:74: tree pruning end, 1 roots, 264 extra nodes, 0 pruned nodes, max_depth=8\u001b[0m\n",
      "\u001b[31m[38]#011train-rmse:0.010077#011validation-rmse:0.017728\u001b[0m\n",
      "\u001b[31m[00:17:47] src/tree/updater_prune.cc:74: tree pruning end, 1 roots, 232 extra nodes, 0 pruned nodes, max_depth=8\u001b[0m\n",
      "\u001b[31m[39]#011train-rmse:0.009898#011validation-rmse:0.01771\u001b[0m\n",
      "\u001b[31m[00:17:47] src/tree/updater_prune.cc:74: tree pruning end, 1 roots, 228 extra nodes, 0 pruned nodes, max_depth=8\u001b[0m\n",
      "\u001b[31m[40]#011train-rmse:0.009644#011validation-rmse:0.017598\u001b[0m\n",
      "\u001b[31m[00:17:47] src/tree/updater_prune.cc:74: tree pruning end, 1 roots, 242 extra nodes, 0 pruned nodes, max_depth=8\u001b[0m\n",
      "\u001b[31m[41]#011train-rmse:0.009439#011validation-rmse:0.017482\u001b[0m\n",
      "\u001b[31m[00:17:47] src/tree/updater_prune.cc:74: tree pruning end, 1 roots, 238 extra nodes, 0 pruned nodes, max_depth=8\u001b[0m\n",
      "\u001b[31m[42]#011train-rmse:0.009328#011validation-rmse:0.017382\u001b[0m\n",
      "\u001b[31m[00:17:47] src/tree/updater_prune.cc:74: tree pruning end, 1 roots, 240 extra nodes, 0 pruned nodes, max_depth=8\u001b[0m\n",
      "\u001b[31m[43]#011train-rmse:0.009236#011validation-rmse:0.017311\u001b[0m\n",
      "\u001b[31m[00:17:47] src/tree/updater_prune.cc:74: tree pruning end, 1 roots, 334 extra nodes, 0 pruned nodes, max_depth=8\u001b[0m\n",
      "\u001b[31m[44]#011train-rmse:0.008972#011validation-rmse:0.017206\u001b[0m\n",
      "\u001b[31m[00:17:47] src/tree/updater_prune.cc:74: tree pruning end, 1 roots, 320 extra nodes, 0 pruned nodes, max_depth=8\u001b[0m\n",
      "\u001b[31m[45]#011train-rmse:0.008692#011validation-rmse:0.017036\u001b[0m\n",
      "\u001b[31m[00:17:47] src/tree/updater_prune.cc:74: tree pruning end, 1 roots, 214 extra nodes, 0 pruned nodes, max_depth=8\u001b[0m\n",
      "\u001b[31m[46]#011train-rmse:0.008518#011validation-rmse:0.016975\u001b[0m\n",
      "\u001b[31m[00:17:47] src/tree/updater_prune.cc:74: tree pruning end, 1 roots, 290 extra nodes, 0 pruned nodes, max_depth=8\u001b[0m\n",
      "\u001b[31m[47]#011train-rmse:0.008224#011validation-rmse:0.016795\u001b[0m\n",
      "\u001b[31m[00:17:47] src/tree/updater_prune.cc:74: tree pruning end, 1 roots, 292 extra nodes, 0 pruned nodes, max_depth=8\u001b[0m\n",
      "\u001b[31m[48]#011train-rmse:0.007947#011validation-rmse:0.01667\u001b[0m\n",
      "\u001b[31m[00:17:47] src/tree/updater_prune.cc:74: tree pruning end, 1 roots, 126 extra nodes, 0 pruned nodes, max_depth=8\u001b[0m\n",
      "\u001b[31m[49]#011train-rmse:0.007912#011validation-rmse:0.016647\u001b[0m\n",
      "\u001b[31m[00:17:47] src/tree/updater_prune.cc:74: tree pruning end, 1 roots, 196 extra nodes, 0 pruned nodes, max_depth=8\u001b[0m\n",
      "\u001b[31m[50]#011train-rmse:0.007846#011validation-rmse:0.016651\u001b[0m\n",
      "\u001b[31m[00:17:47] src/tree/updater_prune.cc:74: tree pruning end, 1 roots, 234 extra nodes, 0 pruned nodes, max_depth=8\u001b[0m\n",
      "\u001b[31m[51]#011train-rmse:0.007714#011validation-rmse:0.016555\u001b[0m\n",
      "\u001b[31m[00:17:47] src/tree/updater_prune.cc:74: tree pruning end, 1 roots, 330 extra nodes, 0 pruned nodes, max_depth=8\u001b[0m\n",
      "\u001b[31m[52]#011train-rmse:0.007487#011validation-rmse:0.016463\u001b[0m\n",
      "\u001b[31m[00:17:47] src/tree/updater_prune.cc:74: tree pruning end, 1 roots, 274 extra nodes, 0 pruned nodes, max_depth=8\u001b[0m\n",
      "\u001b[31m[53]#011train-rmse:0.007347#011validation-rmse:0.016393\u001b[0m\n",
      "\u001b[31m[00:17:47] src/tree/updater_prune.cc:74: tree pruning end, 1 roots, 298 extra nodes, 0 pruned nodes, max_depth=8\u001b[0m\n",
      "\u001b[31m[54]#011train-rmse:0.00725#011validation-rmse:0.016375\u001b[0m\n",
      "\u001b[31m[00:17:47] src/tree/updater_prune.cc:74: tree pruning end, 1 roots, 230 extra nodes, 0 pruned nodes, max_depth=8\u001b[0m\n",
      "\u001b[31m[55]#011train-rmse:0.007072#011validation-rmse:0.016276\u001b[0m\n",
      "\u001b[31m[00:17:47] src/tree/updater_prune.cc:74: tree pruning end, 1 roots, 160 extra nodes, 0 pruned nodes, max_depth=8\u001b[0m\n",
      "\u001b[31m[56]#011train-rmse:0.006984#011validation-rmse:0.01623\u001b[0m\n",
      "\u001b[31m[00:17:47] src/tree/updater_prune.cc:74: tree pruning end, 1 roots, 268 extra nodes, 0 pruned nodes, max_depth=8\u001b[0m\n",
      "\u001b[31m[57]#011train-rmse:0.006826#011validation-rmse:0.016165\u001b[0m\n",
      "\u001b[31m[00:17:47] src/tree/updater_prune.cc:74: tree pruning end, 1 roots, 290 extra nodes, 0 pruned nodes, max_depth=8\u001b[0m\n",
      "\u001b[31m[58]#011train-rmse:0.006721#011validation-rmse:0.016157\u001b[0m\n",
      "\u001b[31m[00:17:47] src/tree/updater_prune.cc:74: tree pruning end, 1 roots, 208 extra nodes, 0 pruned nodes, max_depth=8\u001b[0m\n",
      "\u001b[31m[59]#011train-rmse:0.006646#011validation-rmse:0.016112\u001b[0m\n",
      "\u001b[31m[00:17:47] src/tree/updater_prune.cc:74: tree pruning end, 1 roots, 228 extra nodes, 0 pruned nodes, max_depth=8\u001b[0m\n",
      "\u001b[31m[60]#011train-rmse:0.006509#011validation-rmse:0.016022\u001b[0m\n",
      "\u001b[31m[00:17:47] src/tree/updater_prune.cc:74: tree pruning end, 1 roots, 176 extra nodes, 0 pruned nodes, max_depth=8\u001b[0m\n",
      "\u001b[31m[61]#011train-rmse:0.006403#011validation-rmse:0.01597\u001b[0m\n",
      "\u001b[31m[00:17:47] src/tree/updater_prune.cc:74: tree pruning end, 1 roots, 150 extra nodes, 0 pruned nodes, max_depth=8\u001b[0m\n",
      "\u001b[31m[62]#011train-rmse:0.006377#011validation-rmse:0.015946\u001b[0m\n",
      "\u001b[31m[00:17:47] src/tree/updater_prune.cc:74: tree pruning end, 1 roots, 258 extra nodes, 0 pruned nodes, max_depth=8\u001b[0m\n",
      "\u001b[31m[63]#011train-rmse:0.006288#011validation-rmse:0.015935\u001b[0m\n",
      "\u001b[31m[00:17:47] src/tree/updater_prune.cc:74: tree pruning end, 1 roots, 222 extra nodes, 0 pruned nodes, max_depth=8\u001b[0m\n",
      "\u001b[31m[64]#011train-rmse:0.006219#011validation-rmse:0.015907\u001b[0m\n",
      "\u001b[31m[00:17:47] src/tree/updater_prune.cc:74: tree pruning end, 1 roots, 280 extra nodes, 0 pruned nodes, max_depth=8\u001b[0m\n",
      "\u001b[31m[65]#011train-rmse:0.006159#011validation-rmse:0.015868\u001b[0m\n",
      "\u001b[31m[00:17:47] src/tree/updater_prune.cc:74: tree pruning end, 1 roots, 312 extra nodes, 0 pruned nodes, max_depth=8\u001b[0m\n",
      "\u001b[31m[66]#011train-rmse:0.006003#011validation-rmse:0.015825\u001b[0m\n",
      "\u001b[31m[00:17:47] src/tree/updater_prune.cc:74: tree pruning end, 1 roots, 292 extra nodes, 0 pruned nodes, max_depth=8\u001b[0m\n",
      "\u001b[31m[67]#011train-rmse:0.005914#011validation-rmse:0.01586\u001b[0m\n",
      "\u001b[31m[00:17:47] src/tree/updater_prune.cc:74: tree pruning end, 1 roots, 264 extra nodes, 0 pruned nodes, max_depth=8\u001b[0m\n",
      "\u001b[31m[68]#011train-rmse:0.005844#011validation-rmse:0.015848\u001b[0m\n",
      "\u001b[31m[00:17:47] src/tree/updater_prune.cc:74: tree pruning end, 1 roots, 236 extra nodes, 0 pruned nodes, max_depth=8\u001b[0m\n",
      "\u001b[31m[69]#011train-rmse:0.005722#011validation-rmse:0.015723\u001b[0m\n",
      "\u001b[31m[70]#011train-rmse:0.005667#011validation-rmse:0.015686\u001b[0m\n",
      "\u001b[31m[00:17:47] src/tree/updater_prune.cc:74: tree pruning end, 1 roots, 210 extra nodes, 0 pruned nodes, max_depth=8\u001b[0m\n",
      "\u001b[31m[00:17:47] src/tree/updater_prune.cc:74: tree pruning end, 1 roots, 318 extra nodes, 0 pruned nodes, max_depth=8\u001b[0m\n",
      "\u001b[31m[71]#011train-rmse:0.005542#011validation-rmse:0.015621\u001b[0m\n",
      "\u001b[31m[00:17:47] src/tree/updater_prune.cc:74: tree pruning end, 1 roots, 200 extra nodes, 0 pruned nodes, max_depth=8\u001b[0m\n",
      "\u001b[31m[72]#011train-rmse:0.005489#011validation-rmse:0.015602\u001b[0m\n",
      "\u001b[31m[00:17:47] src/tree/updater_prune.cc:74: tree pruning end, 1 roots, 266 extra nodes, 0 pruned nodes, max_depth=8\u001b[0m\n",
      "\u001b[31m[73]#011train-rmse:0.005418#011validation-rmse:0.015581\u001b[0m\n",
      "\u001b[31m[00:17:47] src/tree/updater_prune.cc:74: tree pruning end, 1 roots, 284 extra nodes, 0 pruned nodes, max_depth=8\u001b[0m\n",
      "\u001b[31m[74]#011train-rmse:0.005273#011validation-rmse:0.015549\u001b[0m\n",
      "\u001b[31m[00:17:47] src/tree/updater_prune.cc:74: tree pruning end, 1 roots, 332 extra nodes, 0 pruned nodes, max_depth=8\u001b[0m\n",
      "\u001b[31m[75]#011train-rmse:0.005168#011validation-rmse:0.015546\u001b[0m\n",
      "\u001b[31m[00:17:47] src/tree/updater_prune.cc:74: tree pruning end, 1 roots, 154 extra nodes, 0 pruned nodes, max_depth=8\u001b[0m\n",
      "\u001b[31m[76]#011train-rmse:0.00515#011validation-rmse:0.015543\u001b[0m\n",
      "\u001b[31m[00:17:47] src/tree/updater_prune.cc:74: tree pruning end, 1 roots, 216 extra nodes, 0 pruned nodes, max_depth=8\u001b[0m\n",
      "\u001b[31m[77]#011train-rmse:0.005079#011validation-rmse:0.015533\u001b[0m\n",
      "\u001b[31m[00:17:47] src/tree/updater_prune.cc:74: tree pruning end, 1 roots, 304 extra nodes, 0 pruned nodes, max_depth=8\u001b[0m\n",
      "\u001b[31m[78]#011train-rmse:0.00499#011validation-rmse:0.015541\u001b[0m\n",
      "\u001b[31m[00:17:47] src/tree/updater_prune.cc:74: tree pruning end, 1 roots, 230 extra nodes, 0 pruned nodes, max_depth=8\u001b[0m\n",
      "\u001b[31m[79]#011train-rmse:0.004916#011validation-rmse:0.015516\u001b[0m\n",
      "\u001b[31m[00:17:47] src/tree/updater_prune.cc:74: tree pruning end, 1 roots, 374 extra nodes, 0 pruned nodes, max_depth=8\u001b[0m\n",
      "\u001b[31m[80]#011train-rmse:0.004822#011validation-rmse:0.015514\u001b[0m\n",
      "\u001b[31m[00:17:47] src/tree/updater_prune.cc:74: tree pruning end, 1 roots, 358 extra nodes, 0 pruned nodes, max_depth=8\u001b[0m\n",
      "\u001b[31m[81]#011train-rmse:0.00475#011validation-rmse:0.01551\u001b[0m\n",
      "\u001b[31m[00:17:47] src/tree/updater_prune.cc:74: tree pruning end, 1 roots, 178 extra nodes, 0 pruned nodes, max_depth=8\u001b[0m\n",
      "\u001b[31m[82]#011train-rmse:0.004675#011validation-rmse:0.015449\u001b[0m\n",
      "\u001b[31m[00:17:47] src/tree/updater_prune.cc:74: tree pruning end, 1 roots, 128 extra nodes, 0 pruned nodes, max_depth=8\u001b[0m\n",
      "\u001b[31m[83]#011train-rmse:0.004651#011validation-rmse:0.015442\u001b[0m\n",
      "\u001b[31m[00:17:47] src/tree/updater_prune.cc:74: tree pruning end, 1 roots, 250 extra nodes, 0 pruned nodes, max_depth=8\u001b[0m\n",
      "\u001b[31m[84]#011train-rmse:0.004597#011validation-rmse:0.015424\u001b[0m\n",
      "\u001b[31m[00:17:47] src/tree/updater_prune.cc:74: tree pruning end, 1 roots, 270 extra nodes, 0 pruned nodes, max_depth=8\u001b[0m\n",
      "\u001b[31m[85]#011train-rmse:0.00448#011validation-rmse:0.015381\u001b[0m\n",
      "\u001b[31m[00:17:47] src/tree/updater_prune.cc:74: tree pruning end, 1 roots, 316 extra nodes, 0 pruned nodes, max_depth=8\u001b[0m\n",
      "\u001b[31m[86]#011train-rmse:0.004388#011validation-rmse:0.015356\u001b[0m\n",
      "\u001b[31m[00:17:47] src/tree/updater_prune.cc:74: tree pruning end, 1 roots, 380 extra nodes, 0 pruned nodes, max_depth=8\u001b[0m\n",
      "\u001b[31m[87]#011train-rmse:0.004319#011validation-rmse:0.015353\u001b[0m\n",
      "\u001b[31m[00:17:47] src/tree/updater_prune.cc:74: tree pruning end, 1 roots, 286 extra nodes, 0 pruned nodes, max_depth=8\u001b[0m\n",
      "\u001b[31m[88]#011train-rmse:0.004263#011validation-rmse:0.015351\u001b[0m\n",
      "\u001b[31m[00:17:47] src/tree/updater_prune.cc:74: tree pruning end, 1 roots, 242 extra nodes, 0 pruned nodes, max_depth=8\u001b[0m\n",
      "\u001b[31m[89]#011train-rmse:0.004188#011validation-rmse:0.015318\u001b[0m\n",
      "\u001b[31m[00:17:47] src/tree/updater_prune.cc:74: tree pruning end, 1 roots, 340 extra nodes, 0 pruned nodes, max_depth=8\u001b[0m\n",
      "\u001b[31m[90]#011train-rmse:0.004114#011validation-rmse:0.015302\u001b[0m\n",
      "\u001b[31m[00:17:47] src/tree/updater_prune.cc:74: tree pruning end, 1 roots, 312 extra nodes, 0 pruned nodes, max_depth=8\u001b[0m\n",
      "\u001b[31m[91]#011train-rmse:0.004047#011validation-rmse:0.015295\u001b[0m\n",
      "\u001b[31m[00:17:47] src/tree/updater_prune.cc:74: tree pruning end, 1 roots, 80 extra nodes, 0 pruned nodes, max_depth=8\u001b[0m\n",
      "\u001b[31m[92]#011train-rmse:0.00404#011validation-rmse:0.015295\u001b[0m\n",
      "\u001b[31m[00:17:47] src/tree/updater_prune.cc:74: tree pruning end, 1 roots, 232 extra nodes, 0 pruned nodes, max_depth=8\u001b[0m\n",
      "\u001b[31m[93]#011train-rmse:0.004006#011validation-rmse:0.015271\u001b[0m\n",
      "\u001b[31m[00:17:47] src/tree/updater_prune.cc:74: tree pruning end, 1 roots, 292 extra nodes, 0 pruned nodes, max_depth=8\u001b[0m\n",
      "\u001b[31m[94]#011train-rmse:0.003949#011validation-rmse:0.015278\u001b[0m\n",
      "\u001b[31m[00:17:47] src/tree/updater_prune.cc:74: tree pruning end, 1 roots, 310 extra nodes, 0 pruned nodes, max_depth=8\u001b[0m\n",
      "\u001b[31m[95]#011train-rmse:0.003867#011validation-rmse:0.015274\u001b[0m\n",
      "\u001b[31m[00:17:47] src/tree/updater_prune.cc:74: tree pruning end, 1 roots, 186 extra nodes, 0 pruned nodes, max_depth=8\u001b[0m\n",
      "\u001b[31m[96]#011train-rmse:0.00383#011validation-rmse:0.015256\u001b[0m\n",
      "\u001b[31m[00:17:47] src/tree/updater_prune.cc:74: tree pruning end, 1 roots, 284 extra nodes, 0 pruned nodes, max_depth=8\u001b[0m\n",
      "\u001b[31m[97]#011train-rmse:0.00377#011validation-rmse:0.015223\u001b[0m\n",
      "\u001b[31m[00:17:47] src/tree/updater_prune.cc:74: tree pruning end, 1 roots, 120 extra nodes, 0 pruned nodes, max_depth=8\u001b[0m\n",
      "\u001b[31m[98]#011train-rmse:0.003749#011validation-rmse:0.015217\u001b[0m\n",
      "\u001b[31m[00:17:47] src/tree/updater_prune.cc:74: tree pruning end, 1 roots, 328 extra nodes, 0 pruned nodes, max_depth=8\u001b[0m\n",
      "\u001b[31m[99]#011train-rmse:0.003704#011validation-rmse:0.015197\u001b[0m\n"
     ]
    },
    {
     "name": "stdout",
     "output_type": "stream",
     "text": [
      "\n",
      "2019-06-04 00:17:58 Uploading - Uploading generated training model\n",
      "2019-06-04 00:17:58 Completed - Training job completed\n",
      "Billable seconds: 45\n"
     ]
    }
   ],
   "source": [
    "estimator.fit({'train': train_input, 'validation':val_input})"
   ]
  },
  {
   "cell_type": "markdown",
   "metadata": {},
   "source": [
    "# deploying and calling the prediction"
   ]
  },
  {
   "cell_type": "code",
   "execution_count": 79,
   "metadata": {},
   "outputs": [
    {
     "name": "stdout",
     "output_type": "stream",
     "text": [
      "---------------------------------------------------------------------------------------------------!"
     ]
    }
   ],
   "source": [
    "predictor = estimator.deploy(initial_instance_count=1,\n",
    "                            instance_type='ml.m4.xlarge',\n",
    "                            endpoint_name= 'deploy-bsd-xgboost-v1')"
   ]
  },
  {
   "cell_type": "code",
   "execution_count": 80,
   "metadata": {},
   "outputs": [],
   "source": [
    "from sagemaker.predictor import csv_serializer\n",
    "predictor.cotent_tye= 'text/csv'\n",
    "predictor.serializer = csv_serializer\n",
    "predictor.deserializer = None\n"
   ]
  },
  {
   "cell_type": "code",
   "execution_count": 81,
   "metadata": {},
   "outputs": [
    {
     "data": {
      "text/plain": [
       "b'4.58880138397'"
      ]
     },
     "execution_count": 81,
     "metadata": {},
     "output_type": "execute_result"
    }
   ],
   "source": [
    "predictor.predict([[3,0,1,2,27.88,31.82,89,19.9995,7,90,8,2011,4,4,6]])"
   ]
  },
  {
   "cell_type": "code",
   "execution_count": null,
   "metadata": {},
   "outputs": [],
   "source": []
  }
 ],
 "metadata": {
  "kernelspec": {
   "display_name": "conda_python3",
   "language": "python",
   "name": "conda_python3"
  },
  "language_info": {
   "codemirror_mode": {
    "name": "ipython",
    "version": 3
   },
   "file_extension": ".py",
   "mimetype": "text/x-python",
   "name": "python",
   "nbconvert_exporter": "python",
   "pygments_lexer": "ipython3",
   "version": "3.6.5"
  },
  "toc": {
   "base_numbering": 1,
   "nav_menu": {},
   "number_sections": true,
   "sideBar": true,
   "skip_h1_title": false,
   "title_cell": "Table of Contents",
   "title_sidebar": "Contents",
   "toc_cell": false,
   "toc_position": {},
   "toc_section_display": true,
   "toc_window_display": false
  },
  "varInspector": {
   "cols": {
    "lenName": 16,
    "lenType": 16,
    "lenVar": 40
   },
   "kernels_config": {
    "python": {
     "delete_cmd_postfix": "",
     "delete_cmd_prefix": "del ",
     "library": "var_list.py",
     "varRefreshCmd": "print(var_dic_list())"
    },
    "r": {
     "delete_cmd_postfix": ") ",
     "delete_cmd_prefix": "rm(",
     "library": "var_list.r",
     "varRefreshCmd": "cat(var_dic_list()) "
    }
   },
   "types_to_exclude": [
    "module",
    "function",
    "builtin_function_or_method",
    "instance",
    "_Feature"
   ],
   "window_display": false
  }
 },
 "nbformat": 4,
 "nbformat_minor": 2
}
